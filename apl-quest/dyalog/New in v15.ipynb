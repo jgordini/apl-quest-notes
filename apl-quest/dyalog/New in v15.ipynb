{
 "cells": [
  {
   "cell_type": "markdown",
   "metadata": {},
   "source": [
    "### Monadic function `∪/`\n",
    "*Catenate reduction* works on empty arrays, and gives an empty result with a prototype appropriate to the empty argument:"
   ]
  },
  {
   "cell_type": "code",
   "execution_count": 1,
   "metadata": {},
   "outputs": [
    {
     "data": {
      "text/html": [
       "<span style=\"white-space:pre; font-family: monospace\">┌─────┐\n",
       "│ ┌⊖┐ │\n",
       "│ │0│ │\n",
       "│ └~┘ │\n",
       "└∊────┘\n",
       "</span>"
      ]
     },
     "execution_count": 1,
     "metadata": {},
     "output_type": "execute_result"
    }
   ],
   "source": [
    "]display ,/⍬"
   ]
  },
  {
   "cell_type": "code",
   "execution_count": 2,
   "metadata": {},
   "outputs": [
    {
     "data": {
      "text/html": [
       "<span style=\"white-space:pre; font-family: monospace\">┌─────────────────┐\n",
       "│ ┌⊖────────────┐ │\n",
       "│ │ ┌→────────┐ │ │\n",
       "│ │ │ ┌⊖┐ ┌⊖┐ │ │ │\n",
       "│ │ │ │ │ │ │ │ │ │\n",
       "│ │ │ └─┘ └─┘ │ │ │\n",
       "│ │ └∊────────┘ │ │\n",
       "│ └∊────────────┘ │\n",
       "└∊────────────────┘\n",
       "</span>"
      ]
     },
     "execution_count": 2,
     "metadata": {},
     "output_type": "execute_result"
    }
   ],
   "source": [
    "]display ,/0⍴⊂⊂'' ''"
   ]
  },
  {
   "cell_type": "markdown",
   "metadata": {},
   "source": [
    "### Other enhancements\n",
    "\n",
    "Version 15.0 introduced a family of system functions to handle native files, especially Unicode files, in a manner as easy as possible. However, creating and modifying files in the file system is inappropriate for a tutorial like this. You may instead find information about this in the [release notes](http://help.dyalog.com/15.0/Content/RelNotes15.0/Key%20Features.htm)."
   ]
  }
 ],
 "metadata": {
  "kernelspec": {
   "display_name": "Dyalog APL",
   "language": "apl",
   "name": "dyalog-kernel"
  },
  "language_info": {
   "file_extension": ".apl",
   "mimetype": "text/apl",
   "name": "APL"
  },
  "tryapl": {
   "category": "Highlights of Recent Releases",
   "description": "Language extensions in Dyalog APL version 15.0",
   "name": "New in version 15.0"
  }
 },
 "nbformat": 4,
 "nbformat_minor": 2
}
