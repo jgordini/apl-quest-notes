{
 "cells": [
  {
   "cell_type": "markdown",
   "metadata": {},
   "source": [
    "A function can applied to data in two ways: **dyadically** or **monadically**. That is, a function can be applied to either one or two arguments. Most primitive functions have both a dyadic and a monadic definition. For example `-`, when applied dyadically is subtract, and when applied monadically is negate."
   ]
  },
  {
   "cell_type": "code",
   "execution_count": 1,
   "metadata": {},
   "outputs": [
    {
     "data": {
      "text/html": [
       "<span style=\"white-space:pre; font-family: monospace\">3\n",
       "</span>"
      ]
     },
     "execution_count": 1,
     "metadata": {},
     "output_type": "execute_result"
    }
   ],
   "source": [
    "10-7  ⍝ dyadic"
   ]
  },
  {
   "cell_type": "code",
   "execution_count": 2,
   "metadata": {},
   "outputs": [
    {
     "data": {
      "text/html": [
       "<span style=\"white-space:pre; font-family: monospace\">¯5\n",
       "</span>"
      ]
     },
     "execution_count": 2,
     "metadata": {},
     "output_type": "execute_result"
    }
   ],
   "source": [
    "-5    ⍝ monadic"
   ]
  },
  {
   "cell_type": "markdown",
   "metadata": {},
   "source": [
    "We distinguish between two types of functions when it comes to applying to data. **Scalar** functions and **mixed** functions."
   ]
  },
  {
   "cell_type": "markdown",
   "metadata": {},
   "source": [
    "#### Scalar Functions\n",
    "\n",
    "A scalar function will penetrate the arrays that it is applied to, all the way down to the simple scalars.\n",
    "\n",
    "Examples of scalar functions are the arithmetic functions; `+` `-` `×` `÷` etc. A worthy note is that APL uses traditional mathematics notation for multiplication and division: `×` and `÷`. `*` is used for exponentiation, which is also scalar."
   ]
  },
  {
   "cell_type": "code",
   "execution_count": 3,
   "metadata": {},
   "outputs": [
    {
     "data": {
      "text/html": [
       "<span style=\"white-space:pre; font-family: monospace\">¯2 ¯1 ¯4 11 ¯6\n",
       "</span>"
      ]
     },
     "execution_count": 3,
     "metadata": {},
     "output_type": "execute_result"
    }
   ],
   "source": [
    "- 2 1 4 ¯11 6"
   ]
  },
  {
   "cell_type": "code",
   "execution_count": 4,
   "metadata": {},
   "outputs": [
    {
     "data": {
      "text/html": [
       "<span style=\"white-space:pre; font-family: monospace\">┌─────┬──┬────────────────────┐\n",
       "│¯1 ¯2│¯3│┌──────┬───────────┐│\n",
       "│     │  ││2 ¯3 6│¯33 ¯11 0.5││\n",
       "│     │  │└──────┴───────────┘│\n",
       "└─────┴──┴────────────────────┘\n",
       "</span>"
      ]
     },
     "execution_count": 4,
     "metadata": {},
     "output_type": "execute_result"
    }
   ],
   "source": [
    "-(1 2) 3 ((¯2 3 ¯6) (33 11 ¯0.5))"
   ]
  },
  {
   "cell_type": "markdown",
   "metadata": {},
   "source": [
    "See that the structure of the array remains the same, only the content is changed. The same is of course true for higher rank arrays. If you're \n",
    "unfamiliar with the concept of rank, you can check out the notebook on arrays."
   ]
  },
  {
   "cell_type": "code",
   "execution_count": 1,
   "metadata": {},
   "outputs": [
    {
     "data": {
      "text/html": [
       "<span style=\"white-space:pre; font-family: monospace\">┌─────┬─────┐\n",
       "│¯4   │¯2   │\n",
       "├─────┼─────┤\n",
       "│¯1 ¯1│¯4   │\n",
       "├─────┼─────┤\n",
       "│¯2   │¯1 ¯1│\n",
       "└─────┴─────┘\n",
       "</span>"
      ]
     },
     "execution_count": 1,
     "metadata": {},
     "output_type": "execute_result"
    }
   ],
   "source": [
    "- 3 2⍴4 2 (1 1)"
   ]
  },
  {
   "cell_type": "markdown",
   "metadata": {},
   "source": [
    "When a scalar function is applied dyadically, the scalars are paired up between the two arrays and the function is applied between the pairs. If the shapes of the arguments do not match up, an error is reported."
   ]
  },
  {
   "cell_type": "code",
   "execution_count": 6,
   "metadata": {},
   "outputs": [
    {
     "data": {
      "text/html": [
       "<span style=\"white-space:pre; font-family: monospace\">12 14 6\n",
       "</span>"
      ]
     },
     "execution_count": 6,
     "metadata": {},
     "output_type": "execute_result"
    }
   ],
   "source": [
    "4 2 1×3 7 6"
   ]
  },
  {
   "cell_type": "code",
   "execution_count": 7,
   "metadata": {},
   "outputs": [
    {
     "name": "stderr",
     "output_type": "stream",
     "text": [
      "LENGTH ERROR: Mismatched left and right argument shapes\n",
      "      2 3+1 7 7\n",
      "         ∧\n"
     ]
    }
   ],
   "source": [
    "2 3+1 7 7"
   ]
  },
  {
   "cell_type": "code",
   "execution_count": 8,
   "metadata": {},
   "outputs": [
    {
     "data": {
      "text/html": [
       "<span style=\"white-space:pre; font-family: monospace\">┌───┬────────┬─┐\n",
       "│5 6│3 9 11.1│0│\n",
       "└───┴────────┴─┘\n",
       "</span>"
      ]
     },
     "execution_count": 8,
     "metadata": {},
     "output_type": "execute_result"
    }
   ],
   "source": [
    "(2 4) (6 5 11) 7 + (3 2) (¯3 4 0.1) ¯7"
   ]
  },
  {
   "cell_type": "markdown",
   "metadata": {},
   "source": [
    "Here the result was `(2 4+3 2)(6 5 11+¯3 4 0.1)(7+¯7)`"
   ]
  },
  {
   "cell_type": "code",
   "execution_count": 9,
   "metadata": {},
   "outputs": [
    {
     "data": {
      "text/html": [
       "<span style=\"white-space:pre; font-family: monospace\">6 4\n",
       "8 5\n",
       "</span>"
      ]
     },
     "execution_count": 9,
     "metadata": {},
     "output_type": "execute_result"
    }
   ],
   "source": [
    "(2 2⍴1 2 3 4)+(2 2⍴5 2 5 1)"
   ]
  },
  {
   "cell_type": "markdown",
   "metadata": {},
   "source": [
    "The shapes of the arguments need not match up exactly. If one of the arguments is a scalar, you get what is called scalar extension. The scalar is distributed across all the scalars of the other argument."
   ]
  },
  {
   "cell_type": "code",
   "execution_count": 10,
   "metadata": {},
   "outputs": [
    {
     "data": {
      "text/html": [
       "<span style=\"white-space:pre; font-family: monospace\">6 8 4\n",
       "</span>"
      ]
     },
     "execution_count": 10,
     "metadata": {},
     "output_type": "execute_result"
    }
   ],
   "source": [
    "2×3 4 2"
   ]
  },
  {
   "cell_type": "code",
   "execution_count": 11,
   "metadata": {},
   "outputs": [
    {
     "data": {
      "text/html": [
       "<span style=\"white-space:pre; font-family: monospace\">┌───┬────────┬──┐\n",
       "│1 9│16 25 36│49│\n",
       "└───┴────────┴──┘\n",
       "</span>"
      ]
     },
     "execution_count": 11,
     "metadata": {},
     "output_type": "execute_result"
    }
   ],
   "source": [
    "(1 3) (4 5 6) 7*2"
   ]
  },
  {
   "cell_type": "code",
   "execution_count": 12,
   "metadata": {},
   "outputs": [
    {
     "data": {
      "text/html": [
       "<span style=\"white-space:pre; font-family: monospace\">0.111111 0.222222 0.333333\n",
       "0.444444 0.555556 0.666667\n",
       "0.777778 0.888889 1       \n",
       "</span>"
      ]
     },
     "execution_count": 12,
     "metadata": {},
     "output_type": "execute_result"
    }
   ],
   "source": [
    "(3 3⍴1 2 3 4 5 6 7 8 9)÷9"
   ]
  },
  {
   "cell_type": "markdown",
   "metadata": {},
   "source": [
    "Additionally scalars inside the arrays can be extended after the items have been paired up."
   ]
  },
  {
   "cell_type": "code",
   "execution_count": 13,
   "metadata": {},
   "outputs": [
    {
     "data": {
      "text/html": [
       "<span style=\"white-space:pre; font-family: monospace\">┌─────┬──────┬───────────────────┐\n",
       "│4 3 2│1 0 ¯1│┌────────┬─┬──────┐│\n",
       "│     │      ││47 74 14│4│35 3.5││\n",
       "│     │      │└────────┴─┴──────┘│\n",
       "└─────┴──────┴───────────────────┘\n",
       "</span>"
      ]
     },
     "execution_count": 13,
     "metadata": {},
     "output_type": "execute_result"
    }
   ],
   "source": [
    "1 2 3+(3 2 1) (¯1 ¯2 ¯3) ((44 71 11) 1 (32 0.5))"
   ]
  },
  {
   "cell_type": "markdown",
   "metadata": {},
   "source": [
    "All of the arithmetic functions also have a monadic definition.\n",
    "\n",
    "`-` is negate\n",
    "\n",
    "`÷` is reciprocal\n",
    "\n",
    "`+` is complex-conjugate (Acts as identity for real numbers)\n",
    "\n",
    "`×` returns the unit complex number in the direction of its argument (Acts as signum on real numbers)\n",
    "\n",
    "`*` raises *e* to the power of its argument\n",
    "\n",
    "Have a go at testing them all out by modifying the following:"
   ]
  },
  {
   "cell_type": "code",
   "execution_count": 3,
   "metadata": {},
   "outputs": [
    {
     "data": {
      "text/html": [
       "<span style=\"white-space:pre; font-family: monospace\">┌────┬──────┬───┬──────┐\n",
       "│1J¯5│0J¯6 7│0.4│4J1E¯9│\n",
       "└────┴──────┴───┴──────┘\n",
       "</span>"
      ]
     },
     "execution_count": 3,
     "metadata": {},
     "output_type": "execute_result"
    }
   ],
   "source": [
    "+ 1j5 (0j6 7) 0.4 4j¯1e¯9"
   ]
  },
  {
   "cell_type": "markdown",
   "metadata": {},
   "source": [
    "#### Mixed Functions\n",
    "\n",
    "Mixed functions apply to larger structures of the argument, for example the rows of an matrix, or just take the entire argument. They can treat each argument differently in this respect.\n",
    "\n",
    "Monadic `⍴` (shape) is a mixed function. It returns the shape of its argument - the lengths of its dimensions. Obviously this wouldn't be very useful as a scalar function.\n",
    "\n",
    "`⍴` takes its entire argument into consideration."
   ]
  },
  {
   "cell_type": "code",
   "execution_count": 15,
   "metadata": {},
   "outputs": [
    {
     "data": {
      "text/html": [
       "<span style=\"white-space:pre; font-family: monospace\">3\n",
       "</span>"
      ]
     },
     "execution_count": 15,
     "metadata": {},
     "output_type": "execute_result"
    }
   ],
   "source": [
    "⍴ 1 2 3"
   ]
  },
  {
   "cell_type": "code",
   "execution_count": 16,
   "metadata": {},
   "outputs": [
    {
     "data": {
      "text/html": [
       "<span style=\"white-space:pre; font-family: monospace\">4\n",
       "</span>"
      ]
     },
     "execution_count": 16,
     "metadata": {},
     "output_type": "execute_result"
    }
   ],
   "source": [
    "⍴ (1 2 3)(2 2 2) 4 2"
   ]
  },
  {
   "cell_type": "code",
   "execution_count": 17,
   "metadata": {},
   "outputs": [
    {
     "data": {
      "text/html": [
       "<span style=\"white-space:pre; font-family: monospace\">3 3\n",
       "</span>"
      ]
     },
     "execution_count": 17,
     "metadata": {},
     "output_type": "execute_result"
    }
   ],
   "source": [
    "⍴ (3 3⍴0 1 1)"
   ]
  },
  {
   "cell_type": "markdown",
   "metadata": {},
   "source": [
    "There are many functions in APL and they won't all be contained in this notebook. `⍴` has been covered in more depth in the arrays notebook, along with monadic `≡`."
   ]
  },
  {
   "cell_type": "markdown",
   "metadata": {},
   "source": [
    "To define your own functions, you have three options - dfns, tradfns and tacit functions.\n",
    "\n",
    "A user defined function behaves the same way as a primitive function. It takes a maximum of two arguments (left and right), and is called either prefix (monadically) or infix (dyadically)."
   ]
  },
  {
   "cell_type": "markdown",
   "metadata": {},
   "source": [
    "## Dfns\n",
    "\n",
    "A dfn (dynamic-function) is an APL expression enclosed in braces (`{}`) where the left and right arguments are referred to by `⍺` and `⍵` (the leftmost and rightmost characters in the Greek alphabet) respectively. For a monadic function, only `⍵` is used."
   ]
  },
  {
   "cell_type": "code",
   "execution_count": 18,
   "metadata": {},
   "outputs": [
    {
     "data": {
      "text/html": [
       "<span style=\"white-space:pre; font-family: monospace\">20\n",
       "</span>"
      ]
     },
     "execution_count": 18,
     "metadata": {},
     "output_type": "execute_result"
    }
   ],
   "source": [
    "times←{⍺×⍵}  ⍝ dfns are assigned just like other values\n",
    "4 times 5"
   ]
  },
  {
   "cell_type": "markdown",
   "metadata": {},
   "source": [
    "Dfns are anonymous functions (they don't require a name). This means that they can be used inline like a primitive function."
   ]
  },
  {
   "cell_type": "code",
   "execution_count": 19,
   "metadata": {},
   "outputs": [
    {
     "data": {
      "text/html": [
       "<span style=\"white-space:pre; font-family: monospace\">20\n",
       "</span>"
      ]
     },
     "execution_count": 19,
     "metadata": {},
     "output_type": "execute_result"
    }
   ],
   "source": [
    "4 {⍺×⍵} 5"
   ]
  },
  {
   "cell_type": "code",
   "execution_count": 20,
   "metadata": {},
   "outputs": [
    {
     "data": {
      "text/html": [
       "<span style=\"white-space:pre; font-family: monospace\">25\n",
       "</span>"
      ]
     },
     "execution_count": 20,
     "metadata": {},
     "output_type": "execute_result"
    }
   ],
   "source": [
    "3 {(⍵*2)+(⍺*2)} 4"
   ]
  },
  {
   "cell_type": "code",
   "execution_count": 21,
   "metadata": {},
   "outputs": [
    {
     "data": {
      "text/html": [
       "<span style=\"white-space:pre; font-family: monospace\">A\n",
       "P\n",
       "L\n",
       "</span>"
      ]
     },
     "execution_count": 21,
     "metadata": {},
     "output_type": "execute_result"
    }
   ],
   "source": [
    "3 {(⍺,1)⍴⍵} 'APL is fun'"
   ]
  },
  {
   "cell_type": "markdown",
   "metadata": {},
   "source": [
    "Dfns can be nested as much as you like. `⍺` and `⍵` will always reference the arguments of the dfn defined by the immediately enclosing braces."
   ]
  },
  {
   "cell_type": "code",
   "execution_count": 22,
   "metadata": {},
   "outputs": [
    {
     "data": {
      "text/html": [
       "<span style=\"white-space:pre; font-family: monospace\">5\n",
       "</span>"
      ]
     },
     "execution_count": 22,
     "metadata": {},
     "output_type": "execute_result"
    }
   ],
   "source": [
    "3 {{⍵*0.5}(⍵*2)+(⍺*2)} 4"
   ]
  },
  {
   "cell_type": "markdown",
   "metadata": {},
   "source": [
    "Inside a dfn, you can perform an `if a then b else c` check. It takes the form `{a:b⋄c}`. `a` must evaluate to a **boolean singleton**, which just means that it is a `1` or `0` whose shape consists of only 1s."
   ]
  },
  {
   "cell_type": "code",
   "execution_count": 23,
   "metadata": {},
   "outputs": [
    {
     "data": {
      "text/html": [
       "<span style=\"white-space:pre; font-family: monospace\">true\n",
       "</span>"
      ]
     },
     "execution_count": 23,
     "metadata": {},
     "output_type": "execute_result"
    }
   ],
   "source": [
    "{⍵:'true'⋄'false'} 1"
   ]
  },
  {
   "cell_type": "markdown",
   "metadata": {},
   "source": [
    "There are many functions in APL that return booleans. Examples are comparisons: `<` `≤` `=` `≥` `>`\n",
    "\n",
    "The comparisons are all scalar functions."
   ]
  },
  {
   "cell_type": "code",
   "execution_count": 24,
   "metadata": {},
   "outputs": [
    {
     "data": {
      "text/html": [
       "<span style=\"white-space:pre; font-family: monospace\">1\n",
       "</span>"
      ]
     },
     "execution_count": 24,
     "metadata": {},
     "output_type": "execute_result"
    }
   ],
   "source": [
    "6>4"
   ]
  },
  {
   "cell_type": "code",
   "execution_count": 25,
   "metadata": {},
   "outputs": [
    {
     "data": {
      "text/html": [
       "<span style=\"white-space:pre; font-family: monospace\">0 1 0 1 1\n",
       "</span>"
      ]
     },
     "execution_count": 25,
     "metadata": {},
     "output_type": "execute_result"
    }
   ],
   "source": [
    "1 2 3 4 5=3 2 1 4 5"
   ]
  },
  {
   "cell_type": "code",
   "execution_count": 26,
   "metadata": {},
   "outputs": [
    {
     "data": {
      "text/html": [
       "<span style=\"white-space:pre; font-family: monospace\">10\n",
       "</span>"
      ]
     },
     "execution_count": 26,
     "metadata": {},
     "output_type": "execute_result"
    }
   ],
   "source": [
    "10 {⍺<⍵:⍺⋄⍵} 12  ⍝ minimum"
   ]
  },
  {
   "cell_type": "markdown",
   "metadata": {},
   "source": [
    "To perform recursion, you can either use the name of the function or the symbol `∇` which refers to the function it's in. If it's not named, you have to use `∇`, which is generally recommended so that you may rename the function without having to change its definition."
   ]
  },
  {
   "cell_type": "code",
   "execution_count": 27,
   "metadata": {},
   "outputs": [
    {
     "data": {
      "text/html": [
       "<span style=\"white-space:pre; font-family: monospace\">120\n",
       "</span>"
      ]
     },
     "execution_count": 27,
     "metadata": {},
     "output_type": "execute_result"
    }
   ],
   "source": [
    "fac←{⍵>1:⍵×fac ⍵-1⋄1}\n",
    "fac 5"
   ]
  },
  {
   "cell_type": "code",
   "execution_count": 28,
   "metadata": {
    "scrolled": true
   },
   "outputs": [
    {
     "data": {
      "text/html": [
       "<span style=\"white-space:pre; font-family: monospace\">120\n",
       "</span>"
      ]
     },
     "execution_count": 28,
     "metadata": {},
     "output_type": "execute_result"
    }
   ],
   "source": [
    "{⍵>1:⍵×∇⍵-1⋄1} 5"
   ]
  },
  {
   "cell_type": "markdown",
   "metadata": {},
   "source": [
    "## Tacit functions\n",
    "\n",
    "A tacit functions is an APL statement that does not have data on the right. \n",
    "\n",
    "The simplest tacit expression is a single function:"
   ]
  },
  {
   "cell_type": "code",
   "execution_count": 29,
   "metadata": {},
   "outputs": [
    {
     "data": {
      "text/html": [
       "<span style=\"white-space:pre; font-family: monospace\">3\n",
       "</span>"
      ]
     },
     "execution_count": 29,
     "metadata": {},
     "output_type": "execute_result"
    }
   ],
   "source": [
    "f←+\n",
    "1 f 2"
   ]
  },
  {
   "cell_type": "markdown",
   "metadata": {},
   "source": [
    "Longer tacit functions are often referred to as trains, where each car is either a function or an array. We'll start by going over monadic trains.\n",
    "\n",
    "A two-train `f g` is called an atop. `(f g) X` is equivalent to `f (g X)`. f is evaluated *atop* the result of g."
   ]
  },
  {
   "cell_type": "markdown",
   "metadata": {},
   "source": [
    "Since a tacit expression does not have data on the right, to use an unnamed train it must be placed inside parentheses."
   ]
  },
  {
   "cell_type": "code",
   "execution_count": 31,
   "metadata": {},
   "outputs": [
    {
     "data": {
      "text/html": [
       "<span style=\"white-space:pre; font-family: monospace\">¯1 0 1\n",
       "</span>"
      ]
     },
     "execution_count": 31,
     "metadata": {},
     "output_type": "execute_result"
    }
   ],
   "source": [
    "(×-)1 0 ¯5"
   ]
  },
  {
   "cell_type": "code",
   "execution_count": 32,
   "metadata": {},
   "outputs": [
    {
     "data": {
      "text/html": [
       "<span style=\"white-space:pre; font-family: monospace\">1 0.0497871 0.0000167017\n",
       "</span>"
      ]
     },
     "execution_count": 32,
     "metadata": {},
     "output_type": "execute_result"
    }
   ],
   "source": [
    "(÷*) 0 3 11"
   ]
  },
  {
   "cell_type": "markdown",
   "metadata": {},
   "source": [
    "Now, there are two types of three-trains (forks), which are closely related. The `f g h` fork and the `A g h` fork. Here `f` is a function while `A` is an array.\n",
    "\n",
    "`(f g h) X` is equivalent to `(f X) g (h X)` and `(A g h) X` is `A g (h X)`"
   ]
  },
  {
   "cell_type": "code",
   "execution_count": 33,
   "metadata": {},
   "outputs": [
    {
     "data": {
      "text/html": [
       "<span style=\"white-space:pre; font-family: monospace\">2 4\n",
       "</span>"
      ]
     },
     "execution_count": 33,
     "metadata": {},
     "output_type": "execute_result"
    }
   ],
   "source": [
    "(⍴+≡) 4 6⍴1 (2 3) 3 3  ⍝ The shape plus the depth"
   ]
  },
  {
   "cell_type": "code",
   "execution_count": 34,
   "metadata": {},
   "outputs": [
    {
     "data": {
      "text/html": [
       "<span style=\"white-space:pre; font-family: monospace\">0 1 0 2\n",
       "</span>"
      ]
     },
     "execution_count": 34,
     "metadata": {},
     "output_type": "execute_result"
    }
   ],
   "source": [
    "(1-×)1 0 10 ¯4"
   ]
  },
  {
   "cell_type": "markdown",
   "metadata": {},
   "source": [
    "Dyadic trains have almost identical definitions to monadic ones.\n",
    "\n",
    "`X (f g) Y  ←→  f (X g Y)`"
   ]
  },
  {
   "cell_type": "code",
   "execution_count": 35,
   "metadata": {},
   "outputs": [
    {
     "data": {
      "text/html": [
       "<span style=\"white-space:pre; font-family: monospace\">¯1\n",
       "</span>"
      ]
     },
     "execution_count": 35,
     "metadata": {},
     "output_type": "execute_result"
    }
   ],
   "source": [
    "3 (×-) 6  ⍝ The sign of the difference"
   ]
  },
  {
   "cell_type": "markdown",
   "metadata": {},
   "source": [
    "`X (f g h) Y  ←→  (X f Y) g (X h Y)`"
   ]
  },
  {
   "cell_type": "code",
   "execution_count": 36,
   "metadata": {},
   "outputs": [
    {
     "data": {
      "text/html": [
       "<span style=\"white-space:pre; font-family: monospace\">5\n",
       "</span>"
      ]
     },
     "execution_count": 36,
     "metadata": {},
     "output_type": "execute_result"
    }
   ],
   "source": [
    "4 (×-+) 3   ⍝ The product minus the sum"
   ]
  },
  {
   "cell_type": "markdown",
   "metadata": {},
   "source": [
    "`X (A g h) Y  ←→  A g (X h Y)`"
   ]
  },
  {
   "cell_type": "code",
   "execution_count": 37,
   "metadata": {},
   "outputs": [
    {
     "data": {
      "text/html": [
       "<span style=\"white-space:pre; font-family: monospace\">28 36 20\n",
       "</span>"
      ]
     },
     "execution_count": 37,
     "metadata": {},
     "output_type": "execute_result"
    }
   ],
   "source": [
    "3 2 0 (2 4 1×+) 11 7 20"
   ]
  },
  {
   "cell_type": "markdown",
   "metadata": {},
   "source": [
    "Inside trains, it is useful to have the functions `⊢` and `⊣`. `⊢` returns  the right argument and `⊣` returns the left. When used monadically they both return the right."
   ]
  },
  {
   "cell_type": "code",
   "execution_count": 38,
   "metadata": {},
   "outputs": [
    {
     "data": {
      "text/html": [
       "<span style=\"white-space:pre; font-family: monospace\">¯380\n",
       "</span>"
      ]
     },
     "execution_count": 38,
     "metadata": {},
     "output_type": "execute_result"
    }
   ],
   "source": [
    "(⊢×1-⊢) 20"
   ]
  },
  {
   "cell_type": "code",
   "execution_count": 39,
   "metadata": {},
   "outputs": [
    {
     "data": {
      "text/html": [
       "<span style=\"white-space:pre; font-family: monospace\">3 3 3 3\n",
       "3 3 3 3\n",
       "3 3 3 3\n",
       "3 3 3 3\n",
       "</span>"
      ]
     },
     "execution_count": 39,
     "metadata": {},
     "output_type": "execute_result"
    }
   ],
   "source": [
    "3 (⊢⍴⊣) 4 4  ⍝ 4 4⍴3"
   ]
  },
  {
   "cell_type": "markdown",
   "metadata": {},
   "source": [
    "For any trains longer than three, the rules are still simple. If there are more than three functions, the last three become a three train and are treated as a single function. Then it's either an atop, a fork, or you have to repeat the previous step.\n",
    "\n",
    "For example `(p q r s) X` becomes `(p (q r s)) X` which becomes `p ((q r s) X)` which finally evaluates to `p ((q X) r (s X))`\n",
    "\n",
    "In the same way `X (p q r s t) Y` is equivalent to `(X p Y) q ((X r Y) s (X t Y))`"
   ]
  },
  {
   "cell_type": "code",
   "execution_count": 40,
   "metadata": {},
   "outputs": [
    {
     "data": {
      "text/html": [
       "<span style=\"white-space:pre; font-family: monospace\"> 9 21  9 21  9\n",
       "21  9 21  9 21\n",
       "</span>"
      ]
     },
     "execution_count": 40,
     "metadata": {},
     "output_type": "execute_result"
    }
   ],
   "source": [
    "2 5 (⊣⍴(1+×)) 4"
   ]
  },
  {
   "cell_type": "code",
   "execution_count": 41,
   "metadata": {},
   "outputs": [
    {
     "data": {
      "text/html": [
       "<span style=\"white-space:pre; font-family: monospace\"> 9 21  9 21  9\n",
       "21  9 21  9 21\n",
       "</span>"
      ]
     },
     "execution_count": 41,
     "metadata": {},
     "output_type": "execute_result"
    }
   ],
   "source": [
    "2 5 (⊣⍴1+×) 4"
   ]
  },
  {
   "cell_type": "markdown",
   "metadata": {},
   "source": [
    "A particularly common use for trains is when you have a handful of conditions and you want to check whether the input satisfies all of them. This can be easily done using the scalar function `∧` (logical-and). The conditions can be written as `cond1 ∧ cond2 ∧ cond3 ∧ cond4...`. Using a train takes a lot of the strain off the reader because the pattern is obvious; all the conditions are being checked on the input and then are anded together. Compare this to `{(cond1 ⍵)∧(cond2 ⍵)∧(cond3 ⍵)...}`, where the input has to be explicitly referenced in each condition and the line is cluttered by parentheses."
   ]
  }
 ],
 "metadata": {
  "kernelspec": {
   "display_name": "Dyalog APL",
   "language": "apl",
   "name": "dyalog-kernel"
  },
  "language_info": {
   "file_extension": ".apl",
   "mimetype": "text/apl",
   "name": "APL"
  },
  "tryapl": {
   "category": "APL Basics",
   "description": "How APL applies functions",
   "name": "Functions"
  }
 },
 "nbformat": 4,
 "nbformat_minor": 2
}
