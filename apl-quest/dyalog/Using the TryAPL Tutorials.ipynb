{
 "cells": [
  {
   "cell_type": "markdown",
   "metadata": {},
   "source": [
    "# Welcome to the TryAPL tutorial system\n",
    "Press the <kbd>Enter ↵</kbd> key or click on the *next* button ⇨ to progress through a notebook."
   ]
  },
  {
   "cell_type": "markdown",
   "metadata": {},
   "source": [
    "These tutorials are [Jupyter notebooks](https://jupyter.org/#about-notebook) using [the Dyalog APL kernel](https://github.com/Dyalog/dyalog-jupyter-kernel/wiki). They can be downloaded from the [Dyalog Jupyter notebook repository](https://github.com/Dyalog/dyalog-jupyter-notebooks/).\n",
    "\n",
    "First we'll cover how to use the interface; which buttons and keys to press etc.  \n",
    "Then we'll cover the current features and limitations of the TryAPL Jupyter system, compared to full Jupyter notebook system with the Dyalog kernel installed."
   ]
  },
  {
   "cell_type": "markdown",
   "metadata": {},
   "source": [
    "## TryAPL Jupyter Interface"
   ]
  },
  {
   "cell_type": "markdown",
   "metadata": {},
   "source": [
    "Click the *Previous step* button ⇦ to go back one step within a notebook."
   ]
  },
  {
   "cell_type": "markdown",
   "metadata": {},
   "source": [
    "Press the *Restart notebook* button ↺ to start a notebook from the beginning. "
   ]
  },
  {
   "cell_type": "markdown",
   "metadata": {},
   "source": [
    "Press *Stop notebook* 🏠&#xFE0E; to return to the *LEARN* menu."
   ]
  },
  {
   "cell_type": "markdown",
   "metadata": {},
   "source": [
    "When a notebook has an APL code block, that code will be copied into the session-pane on the right hand side of TryAPL and executed. "
   ]
  },
  {
   "cell_type": "markdown",
   "metadata": {},
   "source": [
    "Single-line expressions can be modified and re-executed in TryAPL."
   ]
  },
  {
   "cell_type": "code",
   "execution_count": 1,
   "metadata": {},
   "outputs": [
    {
     "data": {
      "text/html": [
       "<span style=\"white-space:pre; font-family: monospace\">2 3 5 7\n",
       "</span>"
      ]
     },
     "execution_count": 1,
     "metadata": {},
     "output_type": "execute_result"
    }
   ],
   "source": [
    "{⍸2=+⌿0=∘.|⍨⍳⍵}10"
   ]
  },
  {
   "cell_type": "markdown",
   "metadata": {},
   "source": [
    "Clicking on purple code block text in the left pane will insert it into the right pane, replacing the current line."
   ]
  },
  {
   "cell_type": "markdown",
   "metadata": {},
   "source": [
    "The session is like a text editor. You can go up and edit any text in the right-hand pane, then press <kbd>Enter</kbd> to execute the code on that line."
   ]
  },
  {
   "cell_type": "markdown",
   "metadata": {},
   "source": [
    "Cycle back through manually entered expressions with <kbd>Ctrl+Shift+Backspace</kbd>"
   ]
  },
  {
   "cell_type": "markdown",
   "metadata": {},
   "source": [
    "Cycle forward with <kbd>Ctrl+Shift+Enter</kbd>"
   ]
  },
  {
   "cell_type": "markdown",
   "metadata": {},
   "source": [
    "## Features and Limitations"
   ]
  },
  {
   "cell_type": "markdown",
   "metadata": {},
   "source": [
    "#### Dyalog APL and the Jupyter kernel"
   ]
  },
  {
   "cell_type": "markdown",
   "metadata": {},
   "source": [
    "The following features are currently available in the Dyalog Jupyter kernel but will not work on TryAPL.\n",
    "- Multiline dfns using the `]dinput` user command\n",
    "- Tradfns\n",
    "- Rendering HTML with the `]html` user command\n",
    "- Making quick plots using the `]plot` user command\n",
    "- Classes, Namespaces and JSON Objects"
   ]
  },
  {
   "cell_type": "markdown",
   "metadata": {},
   "source": [
    "#### Markdown"
   ]
  },
  {
   "cell_type": "markdown",
   "metadata": {},
   "source": [
    "Currently, TryAPL renders standard markdown using the [marked.js](https://github.com/markedjs/marked) library.\n",
    "\n",
    "To embed examples, we allow inline code `+/⍳10` like this.\n",
    "\n",
    "Or whole code blocks\n",
    "\n",
    "```APL\n",
    "+/⍳10\n",
    "```\n",
    "\n",
    "like this."
   ]
  },
  {
   "cell_type": "markdown",
   "metadata": {},
   "source": [
    "Of course, it is best to keep code in the executable code blocks"
   ]
  },
  {
   "cell_type": "code",
   "execution_count": 2,
   "metadata": {},
   "outputs": [
    {
     "data": {
      "text/html": [
       "<span style=\"white-space:pre; font-family: monospace\">55\n",
       "</span>"
      ]
     },
     "execution_count": 2,
     "metadata": {},
     "output_type": "execute_result"
    }
   ],
   "source": [
    "+/⍳10   ⍝ Like this"
   ]
  },
  {
   "cell_type": "markdown",
   "metadata": {},
   "source": [
    "TryAPL also renders [LaTeX](https://www.latex-project.org/) using [MathJax](https://www.mathjax.org/).  \n",
    "So for example, we can say $\\sum_{n=1}^{N} n $ is equivalent to `+/⍳N` inline.\n",
    "\n",
    "Or we can use blocks:\n",
    "$$\\sum_{n=1}^{N}n$$\n",
    "```APL\n",
    "+/⍳N\n",
    "```"
   ]
  },
  {
   "cell_type": "markdown",
   "metadata": {},
   "source": [
    "TryAPL doesn't currently support images with relative URLs, but does support absolute URLs.\n",
    "\n",
    "<img src=\"https://upload.wikimedia.org/wikipedia/commons/9/92/IBM_Selectric_Globe_Wiki.jpg\" width=300px>"
   ]
  },
  {
   "cell_type": "markdown",
   "metadata": {},
   "source": [
    "We welcome submissions of notebooks for inclusion in Try APL, as well as reports of anomalies, suggestions, criticisms, and comments to tryapl@dyalog.com."
   ]
  }
 ],
 "metadata": {
  "kernelspec": {
   "display_name": "Dyalog APL",
   "language": "apl",
   "name": "dyalog-kernel"
  },
  "language_info": {
   "file_extension": ".apl",
   "mimetype": "text/apl",
   "name": "APL"
  }
 },
 "nbformat": 4,
 "nbformat_minor": 2
}
