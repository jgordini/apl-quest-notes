{
 "cells": [
  {
   "cell_type": "markdown",
   "id": "supreme-paris",
   "metadata": {},
   "source": [
    "# Mandelbrot Set\n",
    "\n",
    "The Mandelbrot set is a mathematical object that is infamous for its aesthetically pleasing representations that one can find on the Internet.\n",
    "For example, if one opens [its Wikipedia page](https://en.wikipedia.org/wiki/Mandelbrot_set) one is greeted with the following image:\n",
    "\n",
    "<img src=\"https://upload.wikimedia.org/wikipedia/commons/thumb/2/21/Mandel_zoom_00_mandelbrot_set.jpg/1280px-Mandel_zoom_00_mandelbrot_set.jpg\" alt=\"Mandelbrot set\" width=\"200\" />"
   ]
  },
  {
   "cell_type": "markdown",
   "id": "acute-bahrain",
   "metadata": {},
   "source": [
    "The Mandelbrot set is a very common example of a fractal: a mathematical object that is self-similar.\n",
    "What this means is that if you zoom in on the border of the Mandelbrot set, you will eventually find patterns that resemble the original, zoomed out object."
   ]
  },
  {
   "cell_type": "markdown",
   "id": "solved-karen",
   "metadata": {},
   "source": [
    "We will now guide you through the code you need to write in order to create your very first representation of the Mandelbrot set."
   ]
  },
  {
   "cell_type": "markdown",
   "id": "black-violin",
   "metadata": {},
   "source": [
    "## The Complex Plane\n",
    "\n",
    "First things first, we need to familiarise ourselves a little bit with the context in which our calculations will be taking place.\n",
    "The Mandelbrot set is drawn on the *complex plane*, which is the space where complex numbers live."
   ]
  },
  {
   "cell_type": "markdown",
   "id": "broadband-module",
   "metadata": {},
   "source": [
    "Complex numbers are mathematical entities much like real numbers or integers, except sometimes we have a harder time understanding what a complex number is because it is harder to “see it”, as opposed to, for example, the integer 3: you can pick up three pencils and realise that you are looking at a representation of the concept of three."
   ]
  },
  {
   "cell_type": "markdown",
   "id": "bound-monster",
   "metadata": {},
   "source": [
    "In mathematics, the *imaginary unit*, which is usually represented as $i$, is a number that is defined to be the square root of $-1$.\n",
    "In APL, we can compute the square root of a number `n` with `n*.5`, so let us see what the square root of $-1$ is:"
   ]
  },
  {
   "cell_type": "code",
   "execution_count": 1,
   "id": "dirty-small",
   "metadata": {},
   "outputs": [
    {
     "data": {
      "text/html": [
       "<span style=\"white-space:pre; font-family: monospace\">0J1\n",
       "</span>"
      ]
     },
     "execution_count": 1,
     "metadata": {},
     "output_type": "execute_result"
    }
   ],
   "source": [
    "¯1*.5"
   ]
  },
  {
   "cell_type": "markdown",
   "id": "funny-slovenia",
   "metadata": {},
   "source": [
    "For a while now, Dyalog has added support for complex numbers, so we can work directly with them.\n",
    "The imaginary unit is `0J1` in Dyalog, as we have seen above."
   ]
  },
  {
   "cell_type": "markdown",
   "id": "sustainable-notification",
   "metadata": {},
   "source": [
    "Now that we know what the imaginary unit is, we can define the complex numbers: a complex number is any number of the form $a + bi$, where $a$ and $b$ are real numbers, the numbers we are used to dealing with.\n",
    "In Dyalog, we write $a + bi$ as `aJb`:"
   ]
  },
  {
   "cell_type": "code",
   "execution_count": 2,
   "id": "handy-prisoner",
   "metadata": {},
   "outputs": [
    {
     "data": {
      "text/html": [
       "<span style=\"white-space:pre; font-family: monospace\">2J3\n",
       "</span>"
      ]
     },
     "execution_count": 2,
     "metadata": {},
     "output_type": "execute_result"
    }
   ],
   "source": [
    "2J3"
   ]
  },
  {
   "cell_type": "markdown",
   "id": "excellent-stable",
   "metadata": {},
   "source": [
    "If, instead, you have the values of `a` and `b` in two variables:"
   ]
  },
  {
   "cell_type": "code",
   "execution_count": 3,
   "id": "advanced-fiction",
   "metadata": {},
   "outputs": [],
   "source": [
    "a ← 2"
   ]
  },
  {
   "cell_type": "code",
   "execution_count": 4,
   "id": "mediterranean-mills",
   "metadata": {},
   "outputs": [],
   "source": [
    "b ← 3"
   ]
  },
  {
   "cell_type": "markdown",
   "id": "saved-person",
   "metadata": {},
   "source": [
    "Then you cannot write `aJb` directly because that looks like a variable name:"
   ]
  },
  {
   "cell_type": "code",
   "execution_count": 5,
   "id": "wooden-hierarchy",
   "metadata": {},
   "outputs": [
    {
     "name": "stderr",
     "output_type": "stream",
     "text": [
      "VALUE ERROR: Undefined name: aJb\n",
      "      aJb\n",
      "      ∧\n"
     ]
    }
   ],
   "source": [
    "aJb"
   ]
  },
  {
   "cell_type": "markdown",
   "id": "cheap-skirt",
   "metadata": {},
   "source": [
    "Instead, you either have to multiply `b` explicitly with `0J1` and add that to `a`:"
   ]
  },
  {
   "cell_type": "code",
   "execution_count": 6,
   "id": "minimal-stone",
   "metadata": {},
   "outputs": [
    {
     "data": {
      "text/html": [
       "<span style=\"white-space:pre; font-family: monospace\">2J3\n",
       "</span>"
      ]
     },
     "execution_count": 6,
     "metadata": {},
     "output_type": "execute_result"
    }
   ],
   "source": [
    "a+0J1×b"
   ]
  },
  {
   "cell_type": "markdown",
   "id": "metropolitan-processing",
   "metadata": {},
   "source": [
    "Or you can use the circle primitive `○`, for which some of the left arguments are useful when dealing with complex numbers.\n",
    "For example, the left argument `¯11` can be used to multiply a number by the imaginary unit:"
   ]
  },
  {
   "cell_type": "code",
   "execution_count": 7,
   "id": "foreign-creation",
   "metadata": {},
   "outputs": [
    {
     "data": {
      "text/html": [
       "<span style=\"white-space:pre; font-family: monospace\">0J3\n",
       "</span>"
      ]
     },
     "execution_count": 7,
     "metadata": {},
     "output_type": "execute_result"
    }
   ],
   "source": [
    "¯11○b"
   ]
  },
  {
   "cell_type": "markdown",
   "id": "martial-ultimate",
   "metadata": {},
   "source": [
    "So, our complex number could be written as"
   ]
  },
  {
   "cell_type": "code",
   "execution_count": 8,
   "id": "knowing-specific",
   "metadata": {},
   "outputs": [
    {
     "data": {
      "text/html": [
       "<span style=\"white-space:pre; font-family: monospace\">2J3\n",
       "</span>"
      ]
     },
     "execution_count": 8,
     "metadata": {},
     "output_type": "execute_result"
    }
   ],
   "source": [
    "a+¯11○b"
   ]
  },
  {
   "cell_type": "markdown",
   "id": "cathedral-variety",
   "metadata": {},
   "source": [
    "The circle primitive can also be used to break complex numbers apart.\n",
    "The part that comes before the `J` is called the *real part* of the complex number, and the part that comes after the `J` is called the *imaginary part* of the complex number.\n",
    "The left arguments `9` and `11` can be used to extract the real and imaginary parts of a complex number, respectively:"
   ]
  },
  {
   "cell_type": "code",
   "execution_count": 9,
   "id": "therapeutic-basic",
   "metadata": {},
   "outputs": [
    {
     "data": {
      "text/html": [
       "<span style=\"white-space:pre; font-family: monospace\">2J3\n",
       "</span>"
      ]
     },
     "execution_count": 9,
     "metadata": {},
     "output_type": "execute_result"
    }
   ],
   "source": [
    "⎕← c ← 2J3"
   ]
  },
  {
   "cell_type": "code",
   "execution_count": 10,
   "id": "exposed-extension",
   "metadata": {},
   "outputs": [
    {
     "data": {
      "text/html": [
       "<span style=\"white-space:pre; font-family: monospace\">2\n",
       "</span>"
      ]
     },
     "execution_count": 10,
     "metadata": {},
     "output_type": "execute_result"
    }
   ],
   "source": [
    "9○c"
   ]
  },
  {
   "cell_type": "code",
   "execution_count": 11,
   "id": "worst-document",
   "metadata": {},
   "outputs": [
    {
     "data": {
      "text/html": [
       "<span style=\"white-space:pre; font-family: monospace\">3\n",
       "</span>"
      ]
     },
     "execution_count": 11,
     "metadata": {},
     "output_type": "execute_result"
    }
   ],
   "source": [
    "11○c"
   ]
  },
  {
   "cell_type": "markdown",
   "id": "sacred-madness",
   "metadata": {},
   "source": [
    "## Building the Set\n",
    "\n",
    "Now that we understand the fundamental pieces that we will be juggling in order to build the Mandelbrot set, we can now look at the basic algorithm that is used to build it.\n",
    "If the Mandelbrot set is a *set* in the complex plane, then it means the Mandelbrot set contains complex numbers in it.\n",
    "In order to build the set, we just need to know what is the *rule* that we used to decide if a number is *in* the set or not."
   ]
  },
  {
   "cell_type": "markdown",
   "id": "final-blowing",
   "metadata": {},
   "source": [
    "### Iterative function\n",
    "\n",
    "That rule is really simple and it will build on this little function:"
   ]
  },
  {
   "cell_type": "code",
   "execution_count": 12,
   "id": "caroline-initial",
   "metadata": {},
   "outputs": [],
   "source": [
    "F ← {⍺+⍵*2}"
   ]
  },
  {
   "cell_type": "markdown",
   "id": "defensive-designation",
   "metadata": {},
   "source": [
    "`F` is a dyadic function that squares the right argument and then adds the left argument:"
   ]
  },
  {
   "cell_type": "code",
   "execution_count": 13,
   "id": "brilliant-tuner",
   "metadata": {},
   "outputs": [
    {
     "data": {
      "text/html": [
       "<span style=\"white-space:pre; font-family: monospace\">10\n",
       "</span>"
      ]
     },
     "execution_count": 13,
     "metadata": {},
     "output_type": "execute_result"
    }
   ],
   "source": [
    "1 F 3"
   ]
  },
  {
   "cell_type": "markdown",
   "id": "handy-ribbon",
   "metadata": {},
   "source": [
    "But `F` can also receive complex numbers as arguments, because complex numbers can also be added, subtracted, multiplied and divided.\n",
    "(Granted, the way those operations work may seem strange at first, but the operations looking strange to you doesn't mean they aren't valid! If you want, take a little detour to [Wikipedia's article on complex numbers](https://en.wikipedia.org/wiki/Complex_number) and, in particular, to the [section on the operations](https://en.wikipedia.org/wiki/Complex_number#Relations_and_operations).)"
   ]
  },
  {
   "cell_type": "code",
   "execution_count": 14,
   "id": "operating-gallery",
   "metadata": {},
   "outputs": [
    {
     "data": {
      "text/html": [
       "<span style=\"white-space:pre; font-family: monospace\">9J1\n",
       "</span>"
      ]
     },
     "execution_count": 14,
     "metadata": {},
     "output_type": "execute_result"
    }
   ],
   "source": [
    "0J1 F 3"
   ]
  },
  {
   "cell_type": "code",
   "execution_count": 15,
   "id": "included-tracker",
   "metadata": {},
   "outputs": [
    {
     "data": {
      "text/html": [
       "<span style=\"white-space:pre; font-family: monospace\">11J1\n",
       "</span>"
      ]
     },
     "execution_count": 15,
     "metadata": {},
     "output_type": "execute_result"
    }
   ],
   "source": [
    "2J1 F 3"
   ]
  },
  {
   "cell_type": "code",
   "execution_count": 16,
   "id": "printable-asian",
   "metadata": {},
   "outputs": [
    {
     "data": {
      "text/html": [
       "<span style=\"white-space:pre; font-family: monospace\">3J¯3\n",
       "</span>"
      ]
     },
     "execution_count": 16,
     "metadata": {},
     "output_type": "execute_result"
    }
   ],
   "source": [
    "0J1 F 2J¯1"
   ]
  },
  {
   "cell_type": "markdown",
   "id": "operating-hypothesis",
   "metadata": {},
   "source": [
    "Before we tell you how we decide if a complex number is inside the Mandelbrot set, let us look at another operation that is useful."
   ]
  },
  {
   "cell_type": "markdown",
   "id": "introductory-continuity",
   "metadata": {},
   "source": [
    "### Magnitude\n",
    "\n",
    "For real numbers, we are used to using `|` to determine the absolute value of a number:"
   ]
  },
  {
   "cell_type": "code",
   "execution_count": 17,
   "id": "historical-inclusion",
   "metadata": {},
   "outputs": [
    {
     "data": {
      "text/html": [
       "<span style=\"white-space:pre; font-family: monospace\">3 3\n",
       "</span>"
      ]
     },
     "execution_count": 17,
     "metadata": {},
     "output_type": "execute_result"
    }
   ],
   "source": [
    "|3 ¯3"
   ]
  },
  {
   "cell_type": "markdown",
   "id": "labeled-church",
   "metadata": {},
   "source": [
    "The absolute value of a real number can also be seen as the *distance* between the number and 0.\n",
    "If we look at it like that, it becomes easy to define the “*absolute value*” of a complex number, which is actually its magnitude."
   ]
  },
  {
   "cell_type": "markdown",
   "id": "covered-greeting",
   "metadata": {},
   "source": [
    "Let us think about the complex number `3J6`, which in mathematical notation is $3 + 6i$.\n",
    "This number is 3 units to the right of 0, and then the $+6i$ means we also go **up** 6 units:\n",
    "\n",
    "```\n",
    "       3J6\n",
    "       / |\n",
    "      /  |\n",
    "     /   |\n",
    "    /    |  \n",
    "   /     |  \n",
    "  /      |\n",
    " /       |\n",
    "0--------3\n",
    "```"
   ]
  },
  {
   "cell_type": "markdown",
   "id": "unsigned-organ",
   "metadata": {},
   "source": [
    "Now that we have this incredible diagram we can compute the distance between `3J6` and `0`, we just have to apply the Pythagorean theorem: the distance between `3J6` and `0` is the hypotenuse of the right triangle drawn, which means we need to square the lengths of the sides, add them, and then compute the square root of that:"
   ]
  },
  {
   "cell_type": "code",
   "execution_count": 18,
   "id": "native-immigration",
   "metadata": {},
   "outputs": [
    {
     "data": {
      "text/html": [
       "<span style=\"white-space:pre; font-family: monospace\">6.7082\n",
       "</span>"
      ]
     },
     "execution_count": 18,
     "metadata": {},
     "output_type": "execute_result"
    }
   ],
   "source": [
    ".5*⍨+/3 6*2"
   ]
  },
  {
   "cell_type": "markdown",
   "id": "polar-choir",
   "metadata": {},
   "source": [
    "This is exactly what the *magnitude* `|` does for us:"
   ]
  },
  {
   "cell_type": "code",
   "execution_count": 19,
   "id": "democratic-colombia",
   "metadata": {},
   "outputs": [
    {
     "data": {
      "text/html": [
       "<span style=\"white-space:pre; font-family: monospace\">6.7082\n",
       "</span>"
      ]
     },
     "execution_count": 19,
     "metadata": {},
     "output_type": "execute_result"
    }
   ],
   "source": [
    "|3J6"
   ]
  },
  {
   "cell_type": "markdown",
   "id": "universal-prototype",
   "metadata": {},
   "source": [
    "### To Be or Not To Be\n",
    "\n",
    "We know what the magnitude of a complex number is, which is the final thing we needed in order to determine if a number is or is not inside the Mandelbrot set."
   ]
  },
  {
   "cell_type": "markdown",
   "id": "assumed-major",
   "metadata": {},
   "source": [
    "To determine if a number `c` is inside the Mandelbrot set, consider the sequence `|F⍣0⍨c`, `|F⍣1⍨c`, `|F⍣2⍨c`, `|F⍣3⍨c`, ...\n",
    " - if the sequence of magnitudes tends to infinity, `c` does *not* belong to the Mandelbrot set;\n",
    " - if the sequence of magnitudes “stays small”, then `c` belongs to the Mandelbrot set."
   ]
  },
  {
   "cell_type": "markdown",
   "id": "funded-karen",
   "metadata": {},
   "source": [
    "Notice that the expression `|F⍣n⍨c` is just a compact way of writing `|c F c F c F ... F c`:"
   ]
  },
  {
   "cell_type": "code",
   "execution_count": 20,
   "id": "democratic-animation",
   "metadata": {},
   "outputs": [
    {
     "data": {
      "text/html": [
       "<span style=\"white-space:pre; font-family: monospace\">3.60555\n",
       "</span>"
      ]
     },
     "execution_count": 20,
     "metadata": {},
     "output_type": "execute_result"
    }
   ],
   "source": [
    "|c"
   ]
  },
  {
   "cell_type": "code",
   "execution_count": 21,
   "id": "noble-hypothesis",
   "metadata": {},
   "outputs": [
    {
     "data": {
      "text/html": [
       "<span style=\"white-space:pre; font-family: monospace\">3.60555\n",
       "</span>"
      ]
     },
     "execution_count": 21,
     "metadata": {},
     "output_type": "execute_result"
    }
   ],
   "source": [
    "|F⍣0⍨c"
   ]
  },
  {
   "cell_type": "code",
   "execution_count": 22,
   "id": "aquatic-focus",
   "metadata": {},
   "outputs": [
    {
     "data": {
      "text/html": [
       "<span style=\"white-space:pre; font-family: monospace\">15.2971\n",
       "</span>"
      ]
     },
     "execution_count": 22,
     "metadata": {},
     "output_type": "execute_result"
    }
   ],
   "source": [
    "|c F c"
   ]
  },
  {
   "cell_type": "code",
   "execution_count": 23,
   "id": "former-headquarters",
   "metadata": {},
   "outputs": [
    {
     "data": {
      "text/html": [
       "<span style=\"white-space:pre; font-family: monospace\">15.2971\n",
       "</span>"
      ]
     },
     "execution_count": 23,
     "metadata": {},
     "output_type": "execute_result"
    }
   ],
   "source": [
    "|F⍣1⍨c"
   ]
  },
  {
   "cell_type": "code",
   "execution_count": 24,
   "id": "passive-movie",
   "metadata": {},
   "outputs": [
    {
     "data": {
      "text/html": [
       "<span style=\"white-space:pre; font-family: monospace\">231.009\n",
       "</span>"
      ]
     },
     "execution_count": 24,
     "metadata": {},
     "output_type": "execute_result"
    }
   ],
   "source": [
    "|c F c F c"
   ]
  },
  {
   "cell_type": "code",
   "execution_count": 25,
   "id": "broken-grade",
   "metadata": {},
   "outputs": [
    {
     "data": {
      "text/html": [
       "<span style=\"white-space:pre; font-family: monospace\">231.009\n",
       "</span>"
      ]
     },
     "execution_count": 25,
     "metadata": {},
     "output_type": "execute_result"
    }
   ],
   "source": [
    "|F⍣2⍨c"
   ]
  },
  {
   "cell_type": "markdown",
   "id": "interim-landscape",
   "metadata": {},
   "source": [
    "You get the idea, right?\n",
    "Notice that, for this particular example, the sequence looks like it is growing very fast, and thus we could guess that `2J3` is not in the Mandelbrot set."
   ]
  },
  {
   "cell_type": "markdown",
   "id": "rising-description",
   "metadata": {},
   "source": [
    "The problem is that, for numbers closer to `0`, it is very, *very*, hard to predict if `c` is going to “explode” like `2J3` did or if it is going to stay close to `0`.\n",
    "What is more, just because you know if a given value `c` is in or out of the Mandelbrot set, it doesn't mean you can predict if a number very close to `c` is in there or not:"
   ]
  },
  {
   "cell_type": "code",
   "execution_count": 26,
   "id": "running-adobe",
   "metadata": {},
   "outputs": [],
   "source": [
    "c ← ¯.6853J.3"
   ]
  },
  {
   "cell_type": "code",
   "execution_count": 27,
   "id": "attractive-comfort",
   "metadata": {},
   "outputs": [
    {
     "data": {
      "text/html": [
       "<span style=\"white-space:pre; font-family: monospace\">0.748088 0.325256 0.707456 0.478024 0.659646 0.636673 0.559355 0.80092 0.288563 0.812609 0.213355 0.751353 0.388828 0.714904 0.545279 0.665535 0.730075 0.538768 0.907667 0.158809 0.757007 0.354521 0.718764 0.508976 0.673591 0.683273 0.56977 0.869619 0.253314 0.811695 0.315437 0.770612 0.463483 0.746917 0.642223 0.71635 0.898953 0.610071 1.1149 0.560899 0.848596 0.250019 0.809963 0.286535 0.762856 0.439305 0.733659 0.608492 0.692974 0.834998 0.565458 1.03375 0.329559 0.692939 0.283064 0.668493 0.392462 0.626708 0.510503 0.555073\n",
       "</span>"
      ]
     },
     "execution_count": 27,
     "metadata": {},
     "output_type": "execute_result"
    }
   ],
   "source": [
    "|F\\60⍴c"
   ]
  },
  {
   "cell_type": "markdown",
   "id": "personal-habitat",
   "metadata": {},
   "source": [
    "The sequence above makes it look like `c` is inside the Mandelbrot set.\n",
    "However, if we take a look at a number that is ever so slightly to the left of `c`, we get a sequence that suddenly starts growing *a lot*:"
   ]
  },
  {
   "cell_type": "code",
   "execution_count": 28,
   "id": "joint-rebecca",
   "metadata": {},
   "outputs": [
    {
     "data": {
      "text/html": [
       "<span style=\"white-space:pre; font-family: monospace\">0.74818 0.325242 0.707587 0.478023 0.659852 0.636744 0.559714 0.801232 0.289043 0.813096 0.213257 0.751741 0.388625 0.715385 0.54513 0.666326 0.730213 0.540359 0.908956 0.161928 0.757278 0.355913 0.719214 0.510465 0.674208 0.685533 0.570299 0.872945 0.252212 0.81078 0.320312 0.770819 0.468427 0.747812 0.649126 0.717934 0.910656 0.612122 1.12067 0.596254 0.921492 0.287638 0.809114 0.395659 0.785947 0.551058 0.781754 0.779683 0.791574 1.17043 0.854363 1.14636 1.62932 2.64519 7.73714 59.2891 3515.37 1.23579E7 1.52717E14 2.33223E28\n",
       "</span>"
      ]
     },
     "execution_count": 28,
     "metadata": {},
     "output_type": "execute_result"
    }
   ],
   "source": [
    "|F\\60⍴c-0.0001"
   ]
  },
  {
   "cell_type": "markdown",
   "id": "urban-sacramento",
   "metadata": {},
   "source": [
    "To be absolutely rigorous, we still do not know if `c` itself is inside the Mandelbrot set or not, we just looked at the initial values of the sequence.\n",
    "Naturally, we can compute more terms of the sequence.\n",
    "Let us check the 120th term in the sequence:"
   ]
  },
  {
   "cell_type": "code",
   "execution_count": 29,
   "id": "soviet-twins",
   "metadata": {},
   "outputs": [
    {
     "data": {
      "text/html": [
       "<span style=\"white-space:pre; font-family: monospace\">0.617933\n",
       "</span>"
      ]
     },
     "execution_count": 29,
     "metadata": {},
     "output_type": "execute_result"
    }
   ],
   "source": [
    "|F⍣120⍨c"
   ]
  },
  {
   "cell_type": "markdown",
   "id": "statutory-girlfriend",
   "metadata": {},
   "source": [
    "We computed 120 terms now and it still looks like `c` is in the Mandelbrot set.\n",
    "Surely this must mean that `c` is in the Mandelbrot set, right?"
   ]
  },
  {
   "cell_type": "markdown",
   "id": "disabled-works",
   "metadata": {},
   "source": [
    "Wrong!\n",
    "If we compute some more terms, we see that the sequence for `c` also “explodes” if we give it enough time:"
   ]
  },
  {
   "cell_type": "code",
   "execution_count": 30,
   "id": "welsh-orange",
   "metadata": {},
   "outputs": [
    {
     "data": {
      "text/html": [
       "<span style=\"white-space:pre; font-family: monospace\">2.21314E24\n",
       "</span>"
      ]
     },
     "execution_count": 30,
     "metadata": {},
     "output_type": "execute_result"
    }
   ],
   "source": [
    "|F⍣170⍨c"
   ]
  },
  {
   "cell_type": "markdown",
   "id": "fatty-welcome",
   "metadata": {},
   "source": [
    "This poses a problem for us: for a given `c`, how can we know how many terms we should compute in order to check if `c` is in the Mandelbrot set or not?\n",
    "The simple answer is: we can't.\n",
    "In practice, we choose a predetermined amount of iterations to perform, we compute those iterations and then look at the final computed element.\n",
    "We then take that as an approximation: if the final element has already exploded, then `c` is not in the Mandelbrot set.\n",
    "If the final element has not exploded, we take that `c` to be in the Mandelbrot set."
   ]
  },
  {
   "cell_type": "markdown",
   "id": "chronic-fourth",
   "metadata": {},
   "source": [
    "## Sampling the Plane\n",
    "\n",
    "We have defined all we are going to work with, so now we can start writing the code for our first pictorial representation of the Mandelbrot set.\n",
    "The first step we need to take is sample the complex plane: this means that we need to build a grid of complex numbers and then we will figure out which of the points in the grid are and aren't in the Mandelbrot set."
   ]
  },
  {
   "cell_type": "markdown",
   "id": "robust-fields",
   "metadata": {},
   "source": [
    "### Building the Grid\n",
    "\n",
    "We start this process by defining the length of the grid, in number of points to be considered:"
   ]
  },
  {
   "cell_type": "code",
   "execution_count": 31,
   "id": "surgical-mixture",
   "metadata": {},
   "outputs": [],
   "source": [
    "n ← 5"
   ]
  },
  {
   "cell_type": "markdown",
   "id": "collectible-vacuum",
   "metadata": {},
   "source": [
    "We start with a small value for `n` because we are still figuring out the code we will be writing, and in case we make a mistake, it is preferable that the arrays we are dealing with are small – this makes it easier to debug our program.\n",
    "When we are confident in our program we can increment the value of `n` to create a larger grid."
   ]
  },
  {
   "cell_type": "markdown",
   "id": "capable-madrid",
   "metadata": {},
   "source": [
    "After defining the size of the grid, we need to create it.\n",
    "We will be creating a grid in a square that has unit length, so we can start by splitting the side of the square in `n` parts:"
   ]
  },
  {
   "cell_type": "code",
   "execution_count": 32,
   "id": "double-liechtenstein",
   "metadata": {},
   "outputs": [
    {
     "data": {
      "text/html": [
       "<span style=\"white-space:pre; font-family: monospace\">0 0.2 0.4 0.6 0.8 1\n",
       "</span>"
      ]
     },
     "execution_count": 32,
     "metadata": {},
     "output_type": "execute_result"
    }
   ],
   "source": [
    "⎕← ticks ← n÷⍨¯1+⍳n+1"
   ]
  },
  {
   "cell_type": "markdown",
   "id": "talented-nicaragua",
   "metadata": {},
   "source": [
    "Think of these numbers as ticks in the horizontal axis.\n",
    "The plane we are working in is the *complex* plane, so the horizontal axis represents the real parts of the numbers in our grid and the vertical axis will represent the imaginary parts of the numbers in our grid."
   ]
  },
  {
   "cell_type": "markdown",
   "id": "precise-reservation",
   "metadata": {},
   "source": [
    "Because we already have a set of ticks we can also use it for the ticks along the vertical axis.\n",
    "We just have to combine the horizontal and vertical ticks, to create all complex numbers that have a real part in the horizontal ticks and an imaginary part in the vertical ticks."
   ]
  },
  {
   "cell_type": "markdown",
   "id": "stretch-momentum",
   "metadata": {},
   "source": [
    "The vertical ticks, corresponding to the imaginary parts, are simply the horizontal ticks multiplied by the imaginary unit:"
   ]
  },
  {
   "cell_type": "code",
   "execution_count": 33,
   "id": "radical-cowboy",
   "metadata": {},
   "outputs": [
    {
     "data": {
      "text/html": [
       "<span style=\"white-space:pre; font-family: monospace\">0 0J0.2 0J0.4 0J0.6 0J0.8 0J1\n",
       "</span>"
      ]
     },
     "execution_count": 33,
     "metadata": {},
     "output_type": "execute_result"
    }
   ],
   "source": [
    "0J1×ticks"
   ]
  },
  {
   "cell_type": "markdown",
   "id": "boxed-penny",
   "metadata": {},
   "source": [
    "Now we just need to combine all the horizontal ticks with the vertical ticks, but we can do so by using the *outer product* operator:"
   ]
  },
  {
   "cell_type": "code",
   "execution_count": 34,
   "id": "universal-sphere",
   "metadata": {},
   "outputs": [
    {
     "data": {
      "text/html": [
       "<span style=\"white-space:pre; font-family: monospace\">0   0.0J0.2 0.0J0.4 0.0J0.6 0.0J0.8 0.0J1\n",
       "0.2 0.2J0.2 0.2J0.4 0.2J0.6 0.2J0.8 0.2J1\n",
       "0.4 0.4J0.2 0.4J0.4 0.4J0.6 0.4J0.8 0.4J1\n",
       "0.6 0.6J0.2 0.6J0.4 0.6J0.6 0.6J0.8 0.6J1\n",
       "0.8 0.8J0.2 0.8J0.4 0.8J0.6 0.8J0.8 0.8J1\n",
       "1   1.0J0.2 1.0J0.4 1.0J0.6 1.0J0.8 1.0J1\n",
       "</span>"
      ]
     },
     "execution_count": 34,
     "metadata": {},
     "output_type": "execute_result"
    }
   ],
   "source": [
    "ticks∘.+0J1×ticks"
   ]
  },
  {
   "cell_type": "markdown",
   "id": "fresh-brake",
   "metadata": {},
   "source": [
    "The only thing that is slightly off is that the real parts are varying vertically and the imaginary parts are varying horizontally, but we can easily fix that with the *transpose* `⍉`:"
   ]
  },
  {
   "cell_type": "code",
   "execution_count": 35,
   "id": "genetic-powder",
   "metadata": {},
   "outputs": [
    {
     "data": {
      "text/html": [
       "<span style=\"white-space:pre; font-family: monospace\">0     0.2     0.4     0.6     0.8     1    \n",
       "0J0.2 0.2J0.2 0.4J0.2 0.6J0.2 0.8J0.2 1J0.2\n",
       "0J0.4 0.2J0.4 0.4J0.4 0.6J0.4 0.8J0.4 1J0.4\n",
       "0J0.6 0.2J0.6 0.4J0.6 0.6J0.6 0.8J0.6 1J0.6\n",
       "0J0.8 0.2J0.8 0.4J0.8 0.6J0.8 0.8J0.8 1J0.8\n",
       "0J1   0.2J1   0.4J1   0.6J1   0.8J1   1J1  \n",
       "</span>"
      ]
     },
     "execution_count": 35,
     "metadata": {},
     "output_type": "execute_result"
    }
   ],
   "source": [
    "⍉ticks∘.+0J1×ticks"
   ]
  },
  {
   "cell_type": "markdown",
   "id": "qualified-alaska",
   "metadata": {},
   "source": [
    "Finally, if we want the grid to really mimic the complex plane, we need the upper rows of the grid to be the ones with the larger imaginary values, and not the other way around.\n",
    "As it stands right now, the first row of the grid has the numbers with imaginary part equal to 0 and the last row has the numbers with imaginary part equal to 1.\n",
    "To fix this, all we have to do is use the *reverse first* function:"
   ]
  },
  {
   "cell_type": "code",
   "execution_count": 36,
   "id": "widespread-intelligence",
   "metadata": {},
   "outputs": [
    {
     "data": {
      "text/html": [
       "<span style=\"white-space:pre; font-family: monospace\">0J1   0.2J1   0.4J1   0.6J1   0.8J1   1J1  \n",
       "0J0.8 0.2J0.8 0.4J0.8 0.6J0.8 0.8J0.8 1J0.8\n",
       "0J0.6 0.2J0.6 0.4J0.6 0.6J0.6 0.8J0.6 1J0.6\n",
       "0J0.4 0.2J0.4 0.4J0.4 0.6J0.4 0.8J0.4 1J0.4\n",
       "0J0.2 0.2J0.2 0.4J0.2 0.6J0.2 0.8J0.2 1J0.2\n",
       "0     0.2     0.4     0.6     0.8     1    \n",
       "</span>"
      ]
     },
     "execution_count": 36,
     "metadata": {},
     "output_type": "execute_result"
    }
   ],
   "source": [
    "⎕← square ← ⊖⍉ticks∘.+0J1×ticks"
   ]
  },
  {
   "cell_type": "markdown",
   "id": "seasonal-castle",
   "metadata": {},
   "source": [
    "### Adjusting the grid\n",
    "\n",
    "The next step lies in translating the grid and resizing it, so that it covers the area in which we know the Mandelbrot set lies.\n",
    "This is relevant because we know that the Mandelbrot set lies within a square that spans from `¯2.1` and `0.9` in the horizontal axis, and `¯1.5` and `1.5` in the vertical axis.\n",
    "In other words, we want the lower left corner of our grid to be `¯2.1J¯1.5` and the upper right corner to be `0.9J1.5`.\n",
    "Another possibility is to say that we want the length of the side of the grid to be `3` and the centre to be the point `¯0.6J0`."
   ]
  },
  {
   "cell_type": "markdown",
   "id": "federal-jefferson",
   "metadata": {},
   "source": [
    "Our grid currently has side length 1, so we can fix the side length by multiplying by the final side length:"
   ]
  },
  {
   "cell_type": "code",
   "execution_count": 37,
   "id": "thirty-transformation",
   "metadata": {},
   "outputs": [
    {
     "data": {
      "text/html": [
       "<span style=\"white-space:pre; font-family: monospace\">0J3   0.6J3   1.2J3   1.8J3   2.4J3   3J3  \n",
       "0J2.4 0.6J2.4 1.2J2.4 1.8J2.4 2.4J2.4 3J2.4\n",
       "0J1.8 0.6J1.8 1.2J1.8 1.8J1.8 2.4J1.8 3J1.8\n",
       "0J1.2 0.6J1.2 1.2J1.2 1.8J1.2 2.4J1.2 3J1.2\n",
       "0J0.6 0.6J0.6 1.2J0.6 1.8J0.6 2.4J0.6 3J0.6\n",
       "0     0.6     1.2     1.8     2.4     3    \n",
       "</span>"
      ]
     },
     "execution_count": 37,
     "metadata": {},
     "output_type": "execute_result"
    }
   ],
   "source": [
    "3×square"
   ]
  },
  {
   "cell_type": "markdown",
   "id": "central-cement",
   "metadata": {},
   "source": [
    "Finally, we have to fix the centre to be `¯0.6J0`.\n",
    "The current centre of the grid is `1.5J1.5`, so what we can do is subtract its current centre and then add the new one:"
   ]
  },
  {
   "cell_type": "code",
   "execution_count": 38,
   "id": "talented-reader",
   "metadata": {},
   "outputs": [
    {
     "data": {
      "text/html": [
       "<span style=\"white-space:pre; font-family: monospace\">¯2.1J01.5 ¯1.5J01.5 ¯0.9J01.5 ¯0.3J01.5 0.3J01.5 0.9J01.5\n",
       "¯2.1J00.9 ¯1.5J00.9 ¯0.9J00.9 ¯0.3J00.9 0.3J00.9 0.9J00.9\n",
       "¯2.1J00.3 ¯1.5J00.3 ¯0.9J00.3 ¯0.3J00.3 0.3J00.3 0.9J00.3\n",
       "¯2.1J¯0.3 ¯1.5J¯0.3 ¯0.9J¯0.3 ¯0.3J¯0.3 0.3J¯0.3 0.9J¯0.3\n",
       "¯2.1J¯0.9 ¯1.5J¯0.9 ¯0.9J¯0.9 ¯0.3J¯0.9 0.3J¯0.9 0.9J¯0.9\n",
       "¯2.1J¯1.5 ¯1.5J¯1.5 ¯0.9J¯1.5 ¯0.3J¯1.5 0.3J¯1.5 0.9J¯1.5\n",
       "</span>"
      ]
     },
     "execution_count": 38,
     "metadata": {},
     "output_type": "execute_result"
    }
   ],
   "source": [
    "¯0.6J0+¯1.5J¯1.5+3×square"
   ]
  },
  {
   "cell_type": "markdown",
   "id": "surrounded-corporation",
   "metadata": {},
   "source": [
    "Another possibility is recognising that subtracting a centre and adding a new one is the same as adding their difference:"
   ]
  },
  {
   "cell_type": "code",
   "execution_count": 39,
   "id": "infinite-allah",
   "metadata": {},
   "outputs": [
    {
     "data": {
      "text/html": [
       "<span style=\"white-space:pre; font-family: monospace\">¯2.1J¯1.5\n",
       "</span>"
      ]
     },
     "execution_count": 39,
     "metadata": {},
     "output_type": "execute_result"
    }
   ],
   "source": [
    "¯0.6J0-1.5J1.5"
   ]
  },
  {
   "cell_type": "markdown",
   "id": "maritime-airfare",
   "metadata": {},
   "source": [
    "We can now use their difference to shift the centre of the grid in a single operation:"
   ]
  },
  {
   "cell_type": "code",
   "execution_count": 40,
   "id": "willing-philippines",
   "metadata": {
    "scrolled": false
   },
   "outputs": [
    {
     "data": {
      "text/html": [
       "<span style=\"white-space:pre; font-family: monospace\">¯2.1J01.5 ¯1.5J01.5 ¯0.9J01.5 ¯0.3J01.5 0.3J01.5 0.9J01.5\n",
       "¯2.1J00.9 ¯1.5J00.9 ¯0.9J00.9 ¯0.3J00.9 0.3J00.9 0.9J00.9\n",
       "¯2.1J00.3 ¯1.5J00.3 ¯0.9J00.3 ¯0.3J00.3 0.3J00.3 0.9J00.3\n",
       "¯2.1J¯0.3 ¯1.5J¯0.3 ¯0.9J¯0.3 ¯0.3J¯0.3 0.3J¯0.3 0.9J¯0.3\n",
       "¯2.1J¯0.9 ¯1.5J¯0.9 ¯0.9J¯0.9 ¯0.3J¯0.9 0.3J¯0.9 0.9J¯0.9\n",
       "¯2.1J¯1.5 ¯1.5J¯1.5 ¯0.9J¯1.5 ¯0.3J¯1.5 0.3J¯1.5 0.9J¯1.5\n",
       "</span>"
      ]
     },
     "execution_count": 40,
     "metadata": {},
     "output_type": "execute_result"
    }
   ],
   "source": [
    "⎕← grid ← ¯2.1J¯1.5+3×square"
   ]
  },
  {
   "cell_type": "markdown",
   "id": "random-remark",
   "metadata": {},
   "source": [
    "## Compute the Mandelbrot Set on the Grid\n",
    "\n",
    "The next thing we need to do now is apply our function `F` to the whole grid.\n",
    "Luckily, APL's array processing capabilities allow us to do so very easily:"
   ]
  },
  {
   "cell_type": "code",
   "execution_count": 41,
   "id": "ambient-story",
   "metadata": {},
   "outputs": [
    {
     "data": {
      "text/html": [
       "<span style=\"white-space:pre; font-family: monospace\">1.51111E179 8.04630E143 6.17622E114 4.86047E94 4.48927E113 5.3936E156\n",
       "4.52893E134 6.11090E85  1.01550E48  5.01598E5  4.73253E34  5.7999E108\n",
       "9.06608E83  2.43033E20  1.45282E0   3.27962E¯1 3.65442E¯1  1.7871E79 \n",
       "9.06608E83  2.43033E20  1.45282E0   3.27962E¯1 3.65442E¯1  1.7871E79 \n",
       "4.52893E134 6.11090E85  1.01550E48  5.01598E5  4.73253E34  5.7999E108\n",
       "1.51111E179 8.04630E143 6.17622E114 4.86047E94 4.48927E113 5.3936E156\n",
       "</span>"
      ]
     },
     "execution_count": 41,
     "metadata": {},
     "output_type": "execute_result"
    }
   ],
   "source": [
    "⎕← magnitudes ← |F⍣9⍨grid"
   ]
  },
  {
   "cell_type": "markdown",
   "id": "enormous-austin",
   "metadata": {},
   "source": [
    "In the matrix above we can see that we already have some really large numbers, and that is why we only apply `F` 9 times."
   ]
  },
  {
   "cell_type": "markdown",
   "id": "false-possession",
   "metadata": {},
   "source": [
    "After computing applying the iterative method, we need to figure out which values are inside the Mandelbrot set and which aren't, so we can just use a comparison:"
   ]
  },
  {
   "cell_type": "code",
   "execution_count": 42,
   "id": "treated-nebraska",
   "metadata": {},
   "outputs": [
    {
     "data": {
      "text/html": [
       "<span style=\"white-space:pre; font-family: monospace\">0 0 0 0 0 0\n",
       "0 0 0 0 0 0\n",
       "0 0 1 1 1 0\n",
       "0 0 1 1 1 0\n",
       "0 0 0 0 0 0\n",
       "0 0 0 0 0 0\n",
       "</span>"
      ]
     },
     "execution_count": 42,
     "metadata": {},
     "output_type": "execute_result"
    }
   ],
   "source": [
    "2>magnitudes"
   ]
  },
  {
   "cell_type": "markdown",
   "id": "spare-excuse",
   "metadata": {},
   "source": [
    "The `1`s above show points inside the Mandelbrot set and the `0`s show points outside.\n",
    "To make a pictorial representation of the set, we could use indexing:"
   ]
  },
  {
   "cell_type": "code",
   "execution_count": 43,
   "id": "following-processor",
   "metadata": {},
   "outputs": [
    {
     "data": {
      "text/html": [
       "<span style=\"white-space:pre; font-family: monospace\">      \n",
       "      \n",
       "  ### \n",
       "  ### \n",
       "      \n",
       "      \n",
       "</span>"
      ]
     },
     "execution_count": 43,
     "metadata": {},
     "output_type": "execute_result"
    }
   ],
   "source": [
    "' #'[1+2>magnitudes]"
   ]
  },
  {
   "cell_type": "markdown",
   "id": "moderate-indonesian",
   "metadata": {},
   "source": [
    "The representation above doesn't look very interesting, but bear with me for a second more."
   ]
  },
  {
   "cell_type": "markdown",
   "id": "going-electric",
   "metadata": {},
   "source": [
    "## Recap\n",
    "\n",
    "Let us take a step back and look at the code we have written so far:"
   ]
  },
  {
   "cell_type": "markdown",
   "id": "alive-celtic",
   "metadata": {},
   "source": [
    " 1. we created ticks in order to prepare for the grid:"
   ]
  },
  {
   "cell_type": "code",
   "execution_count": 44,
   "id": "indie-miami",
   "metadata": {},
   "outputs": [
    {
     "data": {
      "text/html": [
       "<span style=\"white-space:pre; font-family: monospace\">0 0.2 0.4 0.6 0.8 1\n",
       "</span>"
      ]
     },
     "execution_count": 44,
     "metadata": {},
     "output_type": "execute_result"
    }
   ],
   "source": [
    "n÷⍨¯1+⍳n+1"
   ]
  },
  {
   "cell_type": "markdown",
   "id": "compliant-compiler",
   "metadata": {},
   "source": [
    " 2. we then used those ticks to create a grid with complex numbers:"
   ]
  },
  {
   "cell_type": "code",
   "execution_count": 45,
   "id": "veterinary-floor",
   "metadata": {},
   "outputs": [
    {
     "data": {
      "text/html": [
       "<span style=\"white-space:pre; font-family: monospace\">0   0.0J0.2 0.0J0.4 0.0J0.6 0.0J0.8 0.0J1\n",
       "0.2 0.2J0.2 0.2J0.4 0.2J0.6 0.2J0.8 0.2J1\n",
       "0.4 0.4J0.2 0.4J0.4 0.4J0.6 0.4J0.8 0.4J1\n",
       "0.6 0.6J0.2 0.6J0.4 0.6J0.6 0.6J0.8 0.6J1\n",
       "0.8 0.8J0.2 0.8J0.4 0.8J0.6 0.8J0.8 0.8J1\n",
       "1   1.0J0.2 1.0J0.4 1.0J0.6 1.0J0.8 1.0J1\n",
       "</span>"
      ]
     },
     "execution_count": 45,
     "metadata": {},
     "output_type": "execute_result"
    }
   ],
   "source": [
    "t∘.+0J1×t←n÷⍨¯1+⍳n+1"
   ]
  },
  {
   "cell_type": "markdown",
   "id": "compatible-workplace",
   "metadata": {},
   "source": [
    " 3. the grid was then readjusted, both in position and in alignment:"
   ]
  },
  {
   "cell_type": "code",
   "execution_count": 46,
   "id": "athletic-fruit",
   "metadata": {},
   "outputs": [
    {
     "data": {
      "text/html": [
       "<span style=\"white-space:pre; font-family: monospace\">¯2.1J01.5 ¯1.5J01.5 ¯0.9J01.5 ¯0.3J01.5 0.3J01.5 0.9J01.5\n",
       "¯2.1J00.9 ¯1.5J00.9 ¯0.9J00.9 ¯0.3J00.9 0.3J00.9 0.9J00.9\n",
       "¯2.1J00.3 ¯1.5J00.3 ¯0.9J00.3 ¯0.3J00.3 0.3J00.3 0.9J00.3\n",
       "¯2.1J¯0.3 ¯1.5J¯0.3 ¯0.9J¯0.3 ¯0.3J¯0.3 0.3J¯0.3 0.9J¯0.3\n",
       "¯2.1J¯0.9 ¯1.5J¯0.9 ¯0.9J¯0.9 ¯0.3J¯0.9 0.3J¯0.9 0.9J¯0.9\n",
       "¯2.1J¯1.5 ¯1.5J¯1.5 ¯0.9J¯1.5 ¯0.3J¯1.5 0.3J¯1.5 0.9J¯1.5\n",
       "</span>"
      ]
     },
     "execution_count": 46,
     "metadata": {},
     "output_type": "execute_result"
    }
   ],
   "source": [
    "¯2.1J¯1.5+3×⊖⍉t∘.+0J1×t←n÷⍨¯1+⍳n+1"
   ]
  },
  {
   "cell_type": "markdown",
   "id": "stainless-pitch",
   "metadata": {},
   "source": [
    " 4. after that, we applied our iterative function and found out the magnitudes of the values we computed:"
   ]
  },
  {
   "cell_type": "code",
   "execution_count": 47,
   "id": "fleet-consistency",
   "metadata": {},
   "outputs": [
    {
     "data": {
      "text/html": [
       "<span style=\"white-space:pre; font-family: monospace\">1.51111E179 8.04630E143 6.17622E114 4.86047E94 4.48927E113 5.3936E156\n",
       "4.52893E134 6.11090E85  1.01550E48  5.01598E5  4.73253E34  5.7999E108\n",
       "9.06608E83  2.43033E20  1.45282E0   3.27962E¯1 3.65442E¯1  1.7871E79 \n",
       "9.06608E83  2.43033E20  1.45282E0   3.27962E¯1 3.65442E¯1  1.7871E79 \n",
       "4.52893E134 6.11090E85  1.01550E48  5.01598E5  4.73253E34  5.7999E108\n",
       "1.51111E179 8.04630E143 6.17622E114 4.86047E94 4.48927E113 5.3936E156\n",
       "</span>"
      ]
     },
     "execution_count": 47,
     "metadata": {},
     "output_type": "execute_result"
    }
   ],
   "source": [
    "|{⍺+⍵*2}⍣9⍨¯2.1J¯1.5+3×⊖⍉t∘.+0J1×t←n÷⍨¯1+⍳n+1"
   ]
  },
  {
   "cell_type": "markdown",
   "id": "bright-forwarding",
   "metadata": {},
   "source": [
    " 5. finally, we used a comparison to turn those magnitudes into a pictorial representation of the Mandelbrot set:"
   ]
  },
  {
   "cell_type": "code",
   "execution_count": 48,
   "id": "bacterial-theater",
   "metadata": {},
   "outputs": [
    {
     "data": {
      "text/html": [
       "<span style=\"white-space:pre; font-family: monospace\">      \n",
       "      \n",
       "  ### \n",
       "  ### \n",
       "      \n",
       "      \n",
       "</span>"
      ]
     },
     "execution_count": 48,
     "metadata": {},
     "output_type": "execute_result"
    }
   ],
   "source": [
    "' #'[1+2>|{⍺+⍵*2}⍣9⍨¯2.1J¯1.5+3×⊖⍉t∘.+0J1×t←n÷⍨¯1+⍳n+1]"
   ]
  },
  {
   "cell_type": "markdown",
   "id": "overall-start",
   "metadata": {},
   "source": [
    "If the image doesn't look interesting, it is (in part) because our `n` was really small!\n",
    "Now that it looks like our code is working, why don't you make it larger?"
   ]
  },
  {
   "cell_type": "code",
   "execution_count": 49,
   "id": "mexican-billion",
   "metadata": {},
   "outputs": [
    {
     "data": {
      "text/html": [
       "<span style=\"white-space:pre; font-family: monospace\">                                                   \n",
       "                                                   \n",
       "                                                   \n",
       "                                                   \n",
       "                                                   \n",
       "                                                   \n",
       "                                                   \n",
       "                                #                  \n",
       "                                #                  \n",
       "                                 ##                \n",
       "                                ###                \n",
       "                              ######               \n",
       "                               #####               \n",
       "                               #####               \n",
       "                         ##  #########   #         \n",
       "                         #################         \n",
       "                          ################         \n",
       "                        #################          \n",
       "                        ##################         \n",
       "              #   #    ####################        \n",
       "               ######  ###################         \n",
       "               ############################        \n",
       "              ############################         \n",
       "            ##############################         \n",
       "            #############################          \n",
       "  #######################################          \n",
       "            #############################          \n",
       "            ##############################         \n",
       "              ############################         \n",
       "               ############################        \n",
       "               ######  ###################         \n",
       "              #   #    ####################        \n",
       "                        ##################         \n",
       "                        #################          \n",
       "                          ################         \n",
       "                         #################         \n",
       "                         ##  #########   #         \n",
       "                               #####               \n",
       "                               #####               \n",
       "                              ######               \n",
       "                                ###                \n",
       "                                 ##                \n",
       "                                #                  \n",
       "                                #                  \n",
       "                                                   \n",
       "                                                   \n",
       "                                                   \n",
       "                                                   \n",
       "                                                   \n",
       "                                                   \n",
       "                                                   \n",
       "</span>"
      ]
     },
     "execution_count": 49,
     "metadata": {},
     "output_type": "execute_result"
    }
   ],
   "source": [
    "n ← 50\n",
    "⎕← M ← ' #'[1+2>|{⍺+⍵*2}⍣9⍨¯2.1J¯1.5+3×⊖⍉t∘.+0J1×t←n÷⍨¯1+⍳n+1]"
   ]
  },
  {
   "cell_type": "markdown",
   "id": "adverse-liberia",
   "metadata": {},
   "source": [
    "Doesn't that look much nicer?\n",
    "I am not saying it competes with the Wikipedia image from the beginning, but take a look at the amount of code we wrote in order to get this picture!\n",
    "We barely broke a sweat!"
   ]
  },
  {
   "cell_type": "markdown",
   "id": "detailed-pepper",
   "metadata": {},
   "source": [
    "One of the things that looks odd about the representation above is its aspect ratio, because characters are generally taller than they are wide.\n",
    "Duplicating each character horizontally can improve that slightly:"
   ]
  },
  {
   "cell_type": "code",
   "execution_count": 50,
   "id": "separated-electric",
   "metadata": {},
   "outputs": [
    {
     "data": {
      "text/html": [
       "<span style=\"white-space:pre; font-family: monospace\">                                                                                                      \n",
       "                                                                                                      \n",
       "                                                                                                      \n",
       "                                                                                                      \n",
       "                                                                                                      \n",
       "                                                                                                      \n",
       "                                                                                                      \n",
       "                                                                ##                                    \n",
       "                                                                ##                                    \n",
       "                                                                  ####                                \n",
       "                                                                ######                                \n",
       "                                                            ############                              \n",
       "                                                              ##########                              \n",
       "                                                              ##########                              \n",
       "                                                  ####    ##################      ##                  \n",
       "                                                  ##################################                  \n",
       "                                                    ################################                  \n",
       "                                                ##################################                    \n",
       "                                                ####################################                  \n",
       "                            ##      ##        ########################################                \n",
       "                              ############    ######################################                  \n",
       "                              ########################################################                \n",
       "                            ########################################################                  \n",
       "                        ############################################################                  \n",
       "                        ##########################################################                    \n",
       "    ##############################################################################                    \n",
       "                        ##########################################################                    \n",
       "                        ############################################################                  \n",
       "                            ########################################################                  \n",
       "                              ########################################################                \n",
       "                              ############    ######################################                  \n",
       "                            ##      ##        ########################################                \n",
       "                                                ####################################                  \n",
       "                                                ##################################                    \n",
       "                                                    ################################                  \n",
       "                                                  ##################################                  \n",
       "                                                  ####    ##################      ##                  \n",
       "                                                              ##########                              \n",
       "                                                              ##########                              \n",
       "                                                            ############                              \n",
       "                                                                ######                                \n",
       "                                                                  ####                                \n",
       "                                                                ##                                    \n",
       "                                                                ##                                    \n",
       "                                                                                                      \n",
       "                                                                                                      \n",
       "                                                                                                      \n",
       "                                                                                                      \n",
       "                                                                                                      \n",
       "                                                                                                      \n",
       "                                                                                                      \n",
       "</span>"
      ]
     },
     "execution_count": 50,
     "metadata": {},
     "output_type": "execute_result"
    }
   ],
   "source": [
    "2/M"
   ]
  },
  {
   "cell_type": "markdown",
   "id": "choice-stationery",
   "metadata": {},
   "source": [
    "## Next Steps\n",
    "\n",
    "Now that you computed your very first Mandelbrot set, what should you do?\n",
    "There are plenty of things you could try and I will leave you with some suggestions."
   ]
  },
  {
   "cell_type": "markdown",
   "id": "reduced-ceremony",
   "metadata": {},
   "source": [
    "### Fiddle With the Numbers\n",
    "\n",
    "The code we wrote creates a square grid of side length 3.\n",
    "What happens if you change the side length?\n",
    "What if you make it a rectangular grid instead of a square one?\n",
    "What if you pick a different centre?"
   ]
  },
  {
   "cell_type": "markdown",
   "id": "delayed-inspector",
   "metadata": {},
   "source": [
    "### Create Better Pictorial Representations\n",
    "\n",
    "In order to be able to create more interesting representations of the Mandelbrot set, it is common to follow more or less the same workflow:\n",
    " - define a threshold, `t ← 2` for example;\n",
    " - define a maximum number of iterations, `iter ← 9` for example;\n",
    " - apply the iterative function a maximum of `iter` times to the grid;\n",
    " - determine what was the iteration number for which the magnitude of the point first exceeded the threshold;\n",
    " - do something with the information above."
   ]
  },
  {
   "cell_type": "markdown",
   "id": "expensive-mother",
   "metadata": {},
   "source": [
    "Now, instead of only caring about whether or not a point blew up during the calculation of the sequence, we also care about *how quickly* each point blew up."
   ]
  },
  {
   "cell_type": "markdown",
   "id": "female-devil",
   "metadata": {},
   "source": [
    "Using the small grid from before, here is what this could look like in code:"
   ]
  },
  {
   "cell_type": "code",
   "execution_count": 51,
   "id": "hairy-diameter",
   "metadata": {},
   "outputs": [],
   "source": [
    "t ← 2"
   ]
  },
  {
   "cell_type": "code",
   "execution_count": 52,
   "id": "biblical-alert",
   "metadata": {},
   "outputs": [],
   "source": [
    "iter ← 9"
   ]
  },
  {
   "cell_type": "code",
   "execution_count": 53,
   "id": "lesser-faith",
   "metadata": {},
   "outputs": [
    {
     "data": {
      "text/html": [
       "<span style=\"white-space:pre; font-family: monospace\">¯2.1J01.5 ¯1.5J01.5 ¯0.9J01.5 ¯0.3J01.5 0.3J01.5 0.9J01.5\n",
       "¯2.1J00.9 ¯1.5J00.9 ¯0.9J00.9 ¯0.3J00.9 0.3J00.9 0.9J00.9\n",
       "¯2.1J00.3 ¯1.5J00.3 ¯0.9J00.3 ¯0.3J00.3 0.3J00.3 0.9J00.3\n",
       "¯2.1J¯0.3 ¯1.5J¯0.3 ¯0.9J¯0.3 ¯0.3J¯0.3 0.3J¯0.3 0.9J¯0.3\n",
       "¯2.1J¯0.9 ¯1.5J¯0.9 ¯0.9J¯0.9 ¯0.3J¯0.9 0.3J¯0.9 0.9J¯0.9\n",
       "¯2.1J¯1.5 ¯1.5J¯1.5 ¯0.9J¯1.5 ¯0.3J¯1.5 0.3J¯1.5 0.9J¯1.5\n",
       "</span>"
      ]
     },
     "execution_count": 53,
     "metadata": {},
     "output_type": "execute_result"
    }
   ],
   "source": [
    "grid"
   ]
  },
  {
   "cell_type": "code",
   "execution_count": 54,
   "id": "accepted-saint",
   "metadata": {},
   "outputs": [
    {
     "data": {
      "text/html": [
       "<span style=\"white-space:pre; font-family: monospace\">0 0 1 1 1 1\n",
       "0 2 2 5 3 1\n",
       "0 4 9 9 9 2\n",
       "0 4 9 9 9 2\n",
       "0 2 2 5 3 1\n",
       "0 0 1 1 1 1\n",
       "</span>"
      ]
     },
     "execution_count": 54,
     "metadata": {},
     "output_type": "execute_result"
    }
   ],
   "source": [
    "⎕← mat ← ⊃iter-+/2<|F\\9⍴⊂grid"
   ]
  },
  {
   "cell_type": "markdown",
   "id": "polish-encyclopedia",
   "metadata": {},
   "source": [
    "The matrix above gives you the number of the iteration for which that specific point was such that its magnitude was above `t`.\n",
    "This means that a very small integer value means that that point blew up very quickly, whereas a larger integer value means that that point took longer to blow up."
   ]
  },
  {
   "cell_type": "markdown",
   "id": "powered-collect",
   "metadata": {},
   "source": [
    "The points for which their value equal `iter` were the ones whose magnitude never surpassed the threshold:"
   ]
  },
  {
   "cell_type": "code",
   "execution_count": 55,
   "id": "abstract-contamination",
   "metadata": {},
   "outputs": [
    {
     "data": {
      "text/html": [
       "<span style=\"white-space:pre; font-family: monospace\">0 0 0 0 0 0\n",
       "0 0 0 0 0 0\n",
       "0 0 1 1 1 0\n",
       "0 0 1 1 1 0\n",
       "0 0 0 0 0 0\n",
       "0 0 0 0 0 0\n",
       "</span>"
      ]
     },
     "execution_count": 55,
     "metadata": {},
     "output_type": "execute_result"
    }
   ],
   "source": [
    "iter=mat"
   ]
  },
  {
   "cell_type": "markdown",
   "id": "dimensional-circus",
   "metadata": {},
   "source": [
    "This matches our first uninteresting pictorial representation of the Mandelbrot set:"
   ]
  },
  {
   "cell_type": "code",
   "execution_count": 56,
   "id": "ambient-monitor",
   "metadata": {},
   "outputs": [
    {
     "data": {
      "text/html": [
       "<span style=\"white-space:pre; font-family: monospace\">      \n",
       "      \n",
       "  ### \n",
       "  ### \n",
       "      \n",
       "      \n",
       "</span>"
      ]
     },
     "execution_count": 56,
     "metadata": {},
     "output_type": "execute_result"
    }
   ],
   "source": [
    "' #'[1+iter=mat]"
   ]
  },
  {
   "cell_type": "markdown",
   "id": "adjustable-voltage",
   "metadata": {},
   "source": [
    "#### Character-Based Representations\n",
    "\n",
    "If you get creative with Unicode characters, you can produce the following:"
   ]
  },
  {
   "cell_type": "code",
   "execution_count": 57,
   "id": "iraqi-stick",
   "metadata": {},
   "outputs": [
    {
     "data": {
      "text/html": [
       "<span style=\"white-space:pre; font-family: monospace\">                                                   \n",
       "                                                   \n",
       "                                                   \n",
       "                                                   \n",
       "                                                   \n",
       "                                                   \n",
       "                             ░░░░░░░               \n",
       "                          ░░░░░▒█▒░░░░             \n",
       "                         ░░░░░░▒██▒▒░░░░           \n",
       "                       ░░░░░░░░▒▓██▒░░░░░          \n",
       "                      ░░░░░░░░▒▓███▓▒░░░░░         \n",
       "                     ░░░░░░░░▒██████▒░░░░░         \n",
       "                    ░░░░░░░▒▒▒▓█████▒▒░░░░░        \n",
       "                  ░░░░░░░▒▒▒▒▓██████▓▒▒▒▒░░░       \n",
       "                 ░░░░░░░▒█████████████▓▒▒█▒░       \n",
       "                ░░░░░░░▒▒█████████████████▓░░      \n",
       "              ░░░░░░░░▒▒▓█████████████████▒░░      \n",
       "             ░░░░░░░░▒▒▓█████████████████▓▒░░      \n",
       "          ░░░▒▓▒▒▒▒▒▒▒▒▓██████████████████▓▒░░     \n",
       "       ░░░░░░▒█▓▒▓█▓▒▓▓████████████████████▒░░     \n",
       "     ░░░░░░░░▒▓██████▓█████████████████████▒░░     \n",
       "    ░░░░░░░░▒▒▓████████████████████████████▒░░░    \n",
       "   ░░░░░░░░▒▓▓████████████████████████████▓░░░░    \n",
       "   ░░░░░▒▒▒▓██████████████████████████████▒░░░░    \n",
       "  ░░▒▒▒▒▒▒▒▓██████████████████████████████▒░░░░    \n",
       "  ███████████████████████████████████████▓▒░░░░    \n",
       "  ░░▒▒▒▒▒▒▒▓██████████████████████████████▒░░░░    \n",
       "   ░░░░░▒▒▒▓██████████████████████████████▒░░░░    \n",
       "   ░░░░░░░░▒▓▓████████████████████████████▓░░░░    \n",
       "    ░░░░░░░░▒▒▓████████████████████████████▒░░░    \n",
       "     ░░░░░░░░▒▓██████▓█████████████████████▒░░     \n",
       "       ░░░░░░▒█▓▒▓█▓▒▓▓████████████████████▒░░     \n",
       "          ░░░▒▓▒▒▒▒▒▒▒▒▓██████████████████▓▒░░     \n",
       "             ░░░░░░░░▒▒▓█████████████████▓▒░░      \n",
       "              ░░░░░░░░▒▒▓█████████████████▒░░      \n",
       "                ░░░░░░░▒▒█████████████████▓░░      \n",
       "                 ░░░░░░░▒█████████████▓▒▒█▒░       \n",
       "                  ░░░░░░░▒▒▒▒▓██████▓▒▒▒▒░░░       \n",
       "                    ░░░░░░░▒▒▒▓█████▒▒░░░░░        \n",
       "                     ░░░░░░░░▒██████▒░░░░░         \n",
       "                      ░░░░░░░░▒▓███▓▒░░░░░         \n",
       "                       ░░░░░░░░▒▓██▒░░░░░          \n",
       "                         ░░░░░░▒██▒▒░░░░           \n",
       "                          ░░░░░▒█▒░░░░             \n",
       "                             ░░░░░░░               \n",
       "                                                   \n",
       "                                                   \n",
       "                                                   \n",
       "                                                   \n",
       "                                                   \n",
       "                                                   \n",
       "</span>"
      ]
     },
     "execution_count": 57,
     "metadata": {},
     "output_type": "execute_result"
    }
   ],
   "source": [
    "iters ← iter-⊃+/2<|F\\iter⍴⊂¯2.1J¯1.5+3×⊖⍉t∘.+0J1×t←n÷⍨¯1+⍳n+1\n",
    "' ░▒▓█'[(4÷⍨¯1+⍳5)⍸iters÷iter]"
   ]
  },
  {
   "cell_type": "markdown",
   "id": "exciting-distance",
   "metadata": {},
   "source": [
    "Can you see what we are doing there?\n",
    "We first calculated how much it takes each point to blow up.\n",
    "Here is a section of those results:"
   ]
  },
  {
   "cell_type": "code",
   "execution_count": 58,
   "id": "operational-zimbabwe",
   "metadata": {},
   "outputs": [
    {
     "data": {
      "text/html": [
       "<span style=\"white-space:pre; font-family: monospace\">4 4 4 6 8\n",
       "4 4 5 6 8\n",
       "4 5 7 7 9\n",
       "6 7 9 9 9\n",
       "6 8 9 9 9\n",
       "</span>"
      ]
     },
     "execution_count": 58,
     "metadata": {},
     "output_type": "execute_result"
    }
   ],
   "source": [
    "⎕← section ← iters[20+⍳5;10+⍳5]"
   ]
  },
  {
   "cell_type": "markdown",
   "id": "private-brooklyn",
   "metadata": {},
   "source": [
    "Then we need to transform the integers in the range `0` `1` ... `iter` into numbers that can be used to index into the character vector `' ░▒▓█'`, so we normalise the iteration counts to be decimal values between `0` and `1`:"
   ]
  },
  {
   "cell_type": "code",
   "execution_count": 59,
   "id": "pretty-soccer",
   "metadata": {},
   "outputs": [
    {
     "data": {
      "text/html": [
       "<span style=\"white-space:pre; font-family: monospace\">0.444444 0.444444 0.444444 0.666667 0.888889\n",
       "0.444444 0.444444 0.555556 0.666667 0.888889\n",
       "0.444444 0.555556 0.777778 0.777778 1       \n",
       "0.666667 0.777778 1        1        1       \n",
       "0.666667 0.888889 1        1        1       \n",
       "</span>"
      ]
     },
     "execution_count": 59,
     "metadata": {},
     "output_type": "execute_result"
    }
   ],
   "source": [
    "section÷iter"
   ]
  },
  {
   "cell_type": "markdown",
   "id": "corporate-product",
   "metadata": {},
   "source": [
    "At the same time, we split the interval $[0, 1]$ in 4 equal segments:"
   ]
  },
  {
   "cell_type": "code",
   "execution_count": 60,
   "id": "cubic-scenario",
   "metadata": {},
   "outputs": [
    {
     "data": {
      "text/html": [
       "<span style=\"white-space:pre; font-family: monospace\">0 0.25 0.5 0.75 1\n",
       "</span>"
      ]
     },
     "execution_count": 60,
     "metadata": {},
     "output_type": "execute_result"
    }
   ],
   "source": [
    "(4÷⍨¯1+⍳5)"
   ]
  },
  {
   "cell_type": "markdown",
   "id": "recreational-lotus",
   "metadata": {},
   "source": [
    "Now we can use the *interval index* function to map the decimal values from before into an appropriate index for `' ░▒▓█'`, with the caveat that only points that never blew up get mapped to █:"
   ]
  },
  {
   "cell_type": "code",
   "execution_count": 61,
   "id": "thick-postcard",
   "metadata": {},
   "outputs": [
    {
     "data": {
      "text/html": [
       "<span style=\"white-space:pre; font-family: monospace\">░░░▒▓\n",
       "░░▒▒▓\n",
       "░▒▓▓█\n",
       "▒▓███\n",
       "▒▓███\n",
       "</span>"
      ]
     },
     "execution_count": 61,
     "metadata": {},
     "output_type": "execute_result"
    }
   ],
   "source": [
    "' ░▒▓█'[(4÷⍨¯1+⍳5)⍸section÷iter]"
   ]
  },
  {
   "cell_type": "markdown",
   "id": "intensive-bulgaria",
   "metadata": {},
   "source": [
    "#### Colour-Based Representations\n",
    "\n",
    "In order to produce beautiful images like the one in the beginning of the notebook, we need to be able to map each point to a colour instead of to a character."
   ]
  },
  {
   "cell_type": "markdown",
   "id": "minus-assessment",
   "metadata": {},
   "source": [
    "There are many ways to transform these integer values into colours.\n",
    "The simplest one would be to assign each point to a shade of grey:"
   ]
  },
  {
   "cell_type": "code",
   "execution_count": 62,
   "id": "smoking-opposition",
   "metadata": {},
   "outputs": [
    {
     "data": {
      "text/html": [
       "<span style=\"white-space:pre; font-family: monospace\">255 255 226 226 226 226\n",
       "255 198 198 113 170 226\n",
       "255 141   0   0   0 198\n",
       "255 141   0   0   0 198\n",
       "255 198 198 113 170 226\n",
       "255 255 226 226 226 226\n",
       "</span>"
      ]
     },
     "execution_count": 62,
     "metadata": {},
     "output_type": "execute_result"
    }
   ],
   "source": [
    "⌊255×iter÷⍨iter-mat"
   ]
  },
  {
   "cell_type": "markdown",
   "id": "fiscal-cambridge",
   "metadata": {},
   "source": [
    "The matrix above would work if you were using integers from `0` to `255` (like in the RGB colour scheme) but you could also use values from `0` to `1`:"
   ]
  },
  {
   "cell_type": "code",
   "execution_count": 63,
   "id": "previous-wallet",
   "metadata": {},
   "outputs": [
    {
     "data": {
      "text/html": [
       "<span style=\"white-space:pre; font-family: monospace\">1 1        0.888889 0.888889 0.888889 0.888889\n",
       "1 0.777778 0.777778 0.444444 0.666667 0.888889\n",
       "1 0.555556 0        0        0        0.777778\n",
       "1 0.555556 0        0        0        0.777778\n",
       "1 0.777778 0.777778 0.444444 0.666667 0.888889\n",
       "1 1        0.888889 0.888889 0.888889 0.888889\n",
       "</span>"
      ]
     },
     "execution_count": 63,
     "metadata": {},
     "output_type": "execute_result"
    }
   ],
   "source": [
    "iter÷⍨iter-mat"
   ]
  },
  {
   "cell_type": "markdown",
   "id": "african-affiliate",
   "metadata": {},
   "source": [
    "You would then want to look at, for example, the documentation for `Bitmap` (available under Dyalog's documentation, \"Object Reference\" &#8680; \"(A-Z)\" &#8680; \"Bitmap Object\") to see how to create actual images and save them to files."
   ]
  },
  {
   "cell_type": "markdown",
   "id": "optional-classroom",
   "metadata": {},
   "source": [
    "### Julia Set\n",
    "\n",
    "There is a family of fractals that are very similar, in nature, to the Mandelbrot set, and those are called [Julia sets](https://en.wikipedia.org/wiki/Julia_set).\n",
    "In order to draw a Julia set, you do the exact same thing that we have done for the Mandelbrot set, but instead of using the function `F` like we have seen, you bind it to a left argument:"
   ]
  },
  {
   "cell_type": "code",
   "execution_count": 64,
   "id": "seventh-insured",
   "metadata": {},
   "outputs": [
    {
     "data": {
      "text/html": [
       "<span style=\"white-space:pre; font-family: monospace\">                                                   \n",
       "                                                   \n",
       "                                                   \n",
       "                                                   \n",
       "                                                   \n",
       "                                                   \n",
       "                                                   \n",
       "                                    #              \n",
       "                                    #              \n",
       "                                  ###              \n",
       "                                   ##             #\n",
       "                                   ######     #   #\n",
       "                                   #####      #####\n",
       "                                     ####   #######\n",
       "                                     #####  #######\n",
       "                                     ###########   \n",
       "                                  ##############   \n",
       "                                  #############    \n",
       "                             ###  #############    \n",
       "                              #############  ##    \n",
       "                              #########       #    \n",
       "                             #########             \n",
       "                               #######             \n",
       "                                ######             \n",
       "                               ########            \n",
       "                                #######            \n",
       "                                ########           \n",
       "                                 ######            \n",
       "                                 #######           \n",
       "                                 #########         \n",
       "                        #       #########          \n",
       "                        ##  #############          \n",
       "                        #############  ###         \n",
       "                        #############              \n",
       "                       ##############              \n",
       "              ##  ##   ###########                 \n",
       "                ###########  #####                 \n",
       "               # ##########   ####                 \n",
       "                   ######      #####               \n",
       "                   ##   #     ######               \n",
       "                    #             ##               \n",
       "                                  ###              \n",
       "                                  #                \n",
       "                                  #                \n",
       "                                                   \n",
       "                                                   \n",
       "                                                   \n",
       "                                                   \n",
       "                                                   \n",
       "                                                   \n",
       "                                                   \n",
       "</span>"
      ]
     },
     "execution_count": 64,
     "metadata": {},
     "output_type": "execute_result"
    }
   ],
   "source": [
    "⎕← M ← ' #'[1+2>|0J¯0.8∘F⍣9⊢¯2.1J¯1.5+3×⊖⍉t∘.+0J1×t←n÷⍨¯1+⍳n+1]"
   ]
  },
  {
   "cell_type": "markdown",
   "id": "mobile-municipality",
   "metadata": {},
   "source": [
    "You could explore different left arguments to bind to `F` or perhaps look at some of the values listed under the “Examples” section on Wikipedia."
   ]
  },
  {
   "cell_type": "markdown",
   "id": "compatible-street",
   "metadata": {},
   "source": [
    "Another thing you could do is, can you redraw this Julia set with the block characters `' ░▒▓█'`?\n",
    "It is not necessarily _hard_, but you need to tweak the respective code that works for the Mandelbrot set."
   ]
  },
  {
   "cell_type": "markdown",
   "id": "latin-solution",
   "metadata": {},
   "source": [
    "### Refine the Estimation\n",
    "\n",
    "In our examples we applied our function `F` only 9 times.\n",
    "Given the grid that we used, if we apply it just one more time we get a `DOMAIN ERROR`:"
   ]
  },
  {
   "cell_type": "code",
   "execution_count": 65,
   "id": "assured-savage",
   "metadata": {},
   "outputs": [
    {
     "name": "stderr",
     "output_type": "stream",
     "text": [
      "DOMAIN ERROR\n",
      "      ⎕←' #'[1+2>|{⍺+⍵*2}⍣10⍨¯2.1J¯1.5+3×⊖⍉t∘.+0J1×t←n÷⍨¯1+⍳n+1]\n",
      "                      ∧\n"
     ]
    }
   ],
   "source": [
    "⎕← ' #'[1+2>|{⍺+⍵*2}⍣10⍨¯2.1J¯1.5+3×⊖⍉t∘.+0J1×t←n÷⍨¯1+⍳n+1]"
   ]
  },
  {
   "cell_type": "markdown",
   "id": "illegal-sense",
   "metadata": {},
   "source": [
    "The problem is that some of the numbers along the edge of the grid are growing really fast, and at some point the values become too large for APL to represent them:"
   ]
  },
  {
   "cell_type": "code",
   "execution_count": 66,
   "id": "powerful-currency",
   "metadata": {},
   "outputs": [
    {
     "data": {
      "text/html": [
       "<span style=\"white-space:pre; font-family: monospace\">¯2.1J1.5\n",
       "</span>"
      ]
     },
     "execution_count": 66,
     "metadata": {},
     "output_type": "execute_result"
    }
   ],
   "source": [
    "⊃grid"
   ]
  },
  {
   "cell_type": "code",
   "execution_count": 67,
   "id": "separated-liver",
   "metadata": {},
   "outputs": [
    {
     "data": {
      "text/html": [
       "<span style=\"white-space:pre; font-family: monospace\">¯2.19233E178J1.49512E179\n",
       "</span>"
      ]
     },
     "execution_count": 67,
     "metadata": {},
     "output_type": "execute_result"
    }
   ],
   "source": [
    "F⍣9⍨⊃grid"
   ]
  },
  {
   "cell_type": "code",
   "execution_count": 68,
   "id": "acceptable-aberdeen",
   "metadata": {},
   "outputs": [
    {
     "name": "stderr",
     "output_type": "stream",
     "text": [
      "DOMAIN ERROR\n",
      "F[0] F←{⍺+⍵*2}\n",
      "           ∧\n"
     ]
    }
   ],
   "source": [
    "F⍣10⍨⊃grid"
   ]
  },
  {
   "cell_type": "markdown",
   "id": "alpine-turtle",
   "metadata": {},
   "source": [
    "When creating coloured representations of these fractals, you generally want the gradient of the image to be smooth.\n",
    "For that to happen, you need to be able to compute more terms of the iterative sequence, so you need to come up with a way to circumvent these `DOMAIN ERROR`s.\n",
    "A possibility is to stop applying the iterative process to points whose magnitude is already too large.\n",
    "How can you do that?"
   ]
  },
  {
   "cell_type": "markdown",
   "id": "fifty-muscle",
   "metadata": {},
   "source": [
    "Another possibility is to rewrite `F` slightly so that it doesn't perform the multiplications with the large numbers.\n",
    "In order to do that, you could mask out the numbers that are already too large:"
   ]
  },
  {
   "cell_type": "code",
   "execution_count": 72,
   "id": "going-brick",
   "metadata": {},
   "outputs": [],
   "source": [
    "F ← {m ← 2>|⍵ ⋄ (⍺×~m)+m×⍺+2*⍨⍵×m}"
   ]
  },
  {
   "cell_type": "code",
   "execution_count": 76,
   "id": "natural-coating",
   "metadata": {},
   "outputs": [],
   "source": [
    "iter ← 20"
   ]
  },
  {
   "cell_type": "code",
   "execution_count": 77,
   "id": "binary-samuel",
   "metadata": {},
   "outputs": [
    {
     "data": {
      "text/html": [
       "<span style=\"white-space:pre; font-family: monospace\">             ▒▒▒▒▒▒▒▒▒▒▒▒▒▒▒▒▒▒▒▒▒▒▒▒▒▒▒▒▒▒▒▒▒▒▒▒▒▒\n",
       "            ▒▒▒▒▒▒▒▒▒▒▒▒▒▒▒▒▒▒▒▒▒▒▒▒▒▒▒▒▒▒▒▒▒▒▒▒▒▒▒\n",
       "           ▒▒▒▒▒▒▒▒▒▒▒▒▒▒▒▒▒▒▒▒▒▒▒▒▒▒▒▒▒▒▒▒▒▒▒▒▒▒▒▒\n",
       "          ▒▒▒▒▒▒▒▒▒▒▒▒▒▒▒▒▒▒▒▒▒▒▒▒▒▒▒▒▒▒▒▒▒▒▒▒▒▒▒▒▒\n",
       "          ▒▒▒▒▒▒▒▒▒▒▒▒▒▒▒▒▒▒▒▒▒▒▒▒▒▒▒▒▒▒▒▒▒▒▒▒▒▒▒▒▒\n",
       "         ▒▒▒▒▒▒▒▒▒▒▒▒▒▒▒▒▒▒▒▒▒▒▒▒▒▒▒▒▒▒▒▒▒▒▒▒▒▒▒▒▒▒\n",
       "        ▒▒▒▒▒▒▒▒▒▒▒▒▒▒▒▒▒▒▒▒▒▓▓▓▓▓▓▓▒▒▒▒▒▒▒▒▒▒▒▒▒▒▒\n",
       "       ▒▒▒▒▒▒▒▒▒▒▒▒▒▒▒▒▒▒▒▓▓▓▓▓▓▓▓▓▓▓▓▒▒▒▒▒▒▒▒▒▒▒▒▒\n",
       "       ▒▒▒▒▒▒▒▒▒▒▒▒▒▒▒▒▒▒▓▓▓▓▓▓▓▓▓▓▓▓▓▓▓▒▒▒▒▒▒▒▒▒▒▒\n",
       "      ▒▒▒▒▒▒▒▒▒▒▒▒▒▒▒▒▒▓▓▓▓▓▓▓▓▓▓▓▓▓▓▓▓▓▓▒▒▒▒▒▒▒▒▒▒\n",
       "      ▒▒▒▒▒▒▒▒▒▒▒▒▒▒▒▒▓▓▓▓▓▓▓▓▓▓▓██▓▓▓▓▓▓▓▒▒▒▒▒▒▒▒▒\n",
       "     ▒▒▒▒▒▒▒▒▒▒▒▒▒▒▒▒▓▓▓▓▓▓▓▓▓▓███▓█▓▓▓▓▓▓▒▒▒▒▒▒▒▒▒\n",
       "     ▒▒▒▒▒▒▒▒▒▒▒▒▒▒▒▓▓▓▓▓▓▓▓▓▓▓▓███▓▓▓▓▓▓▓▓▒▒▒▒▒▒▒▒\n",
       "    ▒▒▒▒▒▒▒▒▒▒▒▒▒▒▓▓▓▓▓▓▓▓▓▓▓▓▓████▓▓▓▓▓▓▓▓▓▒▒▒▒▒▒▒\n",
       "    ▒▒▒▒▒▒▒▒▒▒▒▒▒▓▓▓▓▓▓▓▓██▓▓██▓███▓██▓▓▓█▓▓▒▒▒▒▒▒▒\n",
       "    ▒▒▒▒▒▒▒▒▒▒▒▒▓▓▓▓▓▓▓▓▓▓█████████████▓▓█▓▓▓▒▒▒▒▒▒\n",
       "   ▒▒▒▒▒▒▒▒▒▒▒▓▓▓▓▓▓▓▓▓▓▓▓███████████████▓▓▓▓▒▒▒▒▒▒\n",
       "   ▒▒▒▒▒▒▒▒▒▒▓▓▓▓▓▓▓▓▓▓▓▓▓███████████████▓▓▓▓▒▒▒▒▒▒\n",
       "   ▒▒▒▒▒▒▒▓▓▓▓▓▓▓▓▓▓▓▓▓▓█████████████████▓▓▓▓▓▒▒▒▒▒\n",
       "   ▒▒▒▒▓▓▓▓▓▓▓▓▓▓▓▓▓▓▓▓▓██████████████████▓▓▓▓▒▒▒▒▒\n",
       "   ▒▒▓▓▓▓▓▓▓▓▓▓▓▓▓▓▓▓▓▓███████████████████▓▓▓▓▒▒▒▒▒\n",
       "  ▒▒▓▓▓▓▓▓▓▓▓▓▓▓█████▓▓███████████████████▓▓▓▓▓▒▒▒▒\n",
       "  ▒▓▓▓▓▓▓▓▓▓▓▓▓███████▓███████████████████▓▓▓▓▓▒▒▒▒\n",
       "  ▒▓▓▓▓▓▓▓▓▓▓▓████████████████████████████▓▓▓▓▓▒▒▒▒\n",
       "  ▓▓▓▓▓▓▓▓▓▓▓████████████████████████████▓▓▓▓▓▓▒▒▒▒\n",
       "  ██████████████████████████████████████▓▓▓▓▓▓▓▒▒▒▒\n",
       "  ▓▓▓▓▓▓▓▓▓▓▓████████████████████████████▓▓▓▓▓▓▒▒▒▒\n",
       "  ▒▓▓▓▓▓▓▓▓▓▓▓████████████████████████████▓▓▓▓▓▒▒▒▒\n",
       "  ▒▓▓▓▓▓▓▓▓▓▓▓▓███████▓███████████████████▓▓▓▓▓▒▒▒▒\n",
       "  ▒▒▓▓▓▓▓▓▓▓▓▓▓▓█████▓▓███████████████████▓▓▓▓▓▒▒▒▒\n",
       "   ▒▒▓▓▓▓▓▓▓▓▓▓▓▓▓▓▓▓▓▓███████████████████▓▓▓▓▒▒▒▒▒\n",
       "   ▒▒▒▒▓▓▓▓▓▓▓▓▓▓▓▓▓▓▓▓▓██████████████████▓▓▓▓▒▒▒▒▒\n",
       "   ▒▒▒▒▒▒▒▓▓▓▓▓▓▓▓▓▓▓▓▓▓█████████████████▓▓▓▓▓▒▒▒▒▒\n",
       "   ▒▒▒▒▒▒▒▒▒▒▓▓▓▓▓▓▓▓▓▓▓▓▓███████████████▓▓▓▓▒▒▒▒▒▒\n",
       "   ▒▒▒▒▒▒▒▒▒▒▒▓▓▓▓▓▓▓▓▓▓▓▓███████████████▓▓▓▓▒▒▒▒▒▒\n",
       "    ▒▒▒▒▒▒▒▒▒▒▒▒▓▓▓▓▓▓▓▓▓▓█████████████▓▓█▓▓▓▒▒▒▒▒▒\n",
       "    ▒▒▒▒▒▒▒▒▒▒▒▒▒▓▓▓▓▓▓▓▓██▓▓██▓███▓██▓▓▓█▓▓▒▒▒▒▒▒▒\n",
       "    ▒▒▒▒▒▒▒▒▒▒▒▒▒▒▓▓▓▓▓▓▓▓▓▓▓▓▓████▓▓▓▓▓▓▓▓▓▒▒▒▒▒▒▒\n",
       "     ▒▒▒▒▒▒▒▒▒▒▒▒▒▒▒▓▓▓▓▓▓▓▓▓▓▓▓███▓▓▓▓▓▓▓▓▒▒▒▒▒▒▒▒\n",
       "     ▒▒▒▒▒▒▒▒▒▒▒▒▒▒▒▒▓▓▓▓▓▓▓▓▓▓███▓█▓▓▓▓▓▓▒▒▒▒▒▒▒▒▒\n",
       "      ▒▒▒▒▒▒▒▒▒▒▒▒▒▒▒▒▓▓▓▓▓▓▓▓▓▓▓██▓▓▓▓▓▓▓▒▒▒▒▒▒▒▒▒\n",
       "      ▒▒▒▒▒▒▒▒▒▒▒▒▒▒▒▒▒▓▓▓▓▓▓▓▓▓▓▓▓▓▓▓▓▓▓▒▒▒▒▒▒▒▒▒▒\n",
       "       ▒▒▒▒▒▒▒▒▒▒▒▒▒▒▒▒▒▒▓▓▓▓▓▓▓▓▓▓▓▓▓▓▓▒▒▒▒▒▒▒▒▒▒▒\n",
       "       ▒▒▒▒▒▒▒▒▒▒▒▒▒▒▒▒▒▒▒▓▓▓▓▓▓▓▓▓▓▓▓▒▒▒▒▒▒▒▒▒▒▒▒▒\n",
       "        ▒▒▒▒▒▒▒▒▒▒▒▒▒▒▒▒▒▒▒▒▒▓▓▓▓▓▓▓▒▒▒▒▒▒▒▒▒▒▒▒▒▒▒\n",
       "         ▒▒▒▒▒▒▒▒▒▒▒▒▒▒▒▒▒▒▒▒▒▒▒▒▒▒▒▒▒▒▒▒▒▒▒▒▒▒▒▒▒▒\n",
       "          ▒▒▒▒▒▒▒▒▒▒▒▒▒▒▒▒▒▒▒▒▒▒▒▒▒▒▒▒▒▒▒▒▒▒▒▒▒▒▒▒▒\n",
       "          ▒▒▒▒▒▒▒▒▒▒▒▒▒▒▒▒▒▒▒▒▒▒▒▒▒▒▒▒▒▒▒▒▒▒▒▒▒▒▒▒▒\n",
       "           ▒▒▒▒▒▒▒▒▒▒▒▒▒▒▒▒▒▒▒▒▒▒▒▒▒▒▒▒▒▒▒▒▒▒▒▒▒▒▒▒\n",
       "            ▒▒▒▒▒▒▒▒▒▒▒▒▒▒▒▒▒▒▒▒▒▒▒▒▒▒▒▒▒▒▒▒▒▒▒▒▒▒▒\n",
       "             ▒▒▒▒▒▒▒▒▒▒▒▒▒▒▒▒▒▒▒▒▒▒▒▒▒▒▒▒▒▒▒▒▒▒▒▒▒▒\n",
       "</span>"
      ]
     },
     "execution_count": 77,
     "metadata": {},
     "output_type": "execute_result"
    }
   ],
   "source": [
    "iters ← iter-⊃+/2<|F\\iter⍴⊂¯2.1J¯1.5+3×⊖⍉t∘.+0J1×t←n÷⍨¯1+⍳n+1\n",
    "' ░▒▓█'[(4÷⍨¯1+⍳5)⍸iters÷iter]"
   ]
  },
  {
   "cell_type": "code",
   "execution_count": null,
   "id": "velvet-disorder",
   "metadata": {},
   "outputs": [],
   "source": []
  }
 ],
 "metadata": {
  "kernelspec": {
   "display_name": "Dyalog APL",
   "language": "apl",
   "name": "dyalog-kernel"
  },
  "language_info": {
   "file_extension": ".apl",
   "mimetype": "text/apl",
   "name": "APL"
  },
  "toc": {
   "base_numbering": 1,
   "nav_menu": {},
   "number_sections": false,
   "sideBar": true,
   "skip_h1_title": true,
   "title_cell": "Table of Contents",
   "title_sidebar": "Contents",
   "toc_cell": false,
   "toc_position": {},
   "toc_section_display": true,
   "toc_window_display": false
  }
 },
 "nbformat": 4,
 "nbformat_minor": 5
}
